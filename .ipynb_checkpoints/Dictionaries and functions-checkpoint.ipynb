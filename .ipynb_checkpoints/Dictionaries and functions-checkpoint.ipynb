{
 "cells": [
  {
   "cell_type": "markdown",
   "metadata": {},
   "source": [
    "# DJ Pelletier\n",
    "### COS 184 fall 2020"
   ]
  },
  {
   "cell_type": "markdown",
   "metadata": {},
   "source": [
    "## Lab 5: Dictionaries and functions (15 points)"
   ]
  },
  {
   "cell_type": "markdown",
   "metadata": {},
   "source": [
    "This assignment is about getting comfortable with dictionaries and with functions that either have dictionaries as arguments or return new dictionaries.\n",
    "\n",
    "Python's lists and dictionaries are important ways of representing <i>aggregates,</i>: objects with potentially more than one value. Lists represent <i>unlabeled</i> data: you pick out individual values with an index, a number that represents the position of the value in the list. Dictionaries represent <i>labeled</i> data: you pick out individual values with a <i>key,</i> which is unique within the dictionary. A key is just a unique immutable value itself. \n",
    "\n",
    "Let's begin by defining a dictionary with a literal. The key will be a <code>string</code> describing a gift and the value will be an <code>int</code> giving the quantity desired. For example, one key would be <code>'pair of red socks'</code> and the value would be <code>1</code>. Write a literal for the dictionary <code>myGifts</code> to contain:\n",
    "<ul>\n",
    "   <li>one 'pair of red socks'\n",
    "   <li>six 'brown orangutan'\n",
    "   <li>two 'pair of long underwear'\n",
    "</ul>"
   ]
  },
  {
   "cell_type": "code",
   "execution_count": 1,
   "metadata": {},
   "outputs": [],
   "source": [
    "# Your code to create the dictionary myGifts goes here.\n",
    "\n",
    "myGifts = {\"pair of red socks\":1, \"brown orangutan\":6, \"pair of long underwear\":2}"
   ]
  },
  {
   "cell_type": "code",
   "execution_count": 5,
   "metadata": {},
   "outputs": [
    {
     "name": "stdout",
     "output_type": "stream",
     "text": [
      "{'pair of red socks': 1, 'brown orangutan': 6, 'pair of long underwear': 2}\n"
     ]
    }
   ],
   "source": [
    "# Don't change this cell. Note that the gifts may not be printed in the same order as you put them in the dictionary.\n",
    "print(myGifts)"
   ]
  },
  {
   "cell_type": "code",
   "execution_count": 6,
   "metadata": {},
   "outputs": [],
   "source": [
    "# Code check block - don't change this cell.\n",
    "assert myGifts and type(myGifts).__name__ == 'dict' and len(myGifts.keys()) == 3\n",
    "assert sum(myGifts.values()) == 9\n",
    "assert 6 == myGifts['brown orangutan']"
   ]
  },
  {
   "cell_type": "markdown",
   "metadata": {},
   "source": [
    "Now we're going to revise <code>myGifts</code> to include a bit more information so that gift givers will know how to get what you want. For each item in the list we'll include several <i>attributes:</i> the name of the store that sells it (a <code>string</code>), the store address (a <code>string</code>), and the unit price (a <code>float</code>). We could just put this in a list, but that would mean that a giver would have to know the position of each attribute in the list. Let's make it a dictionary instead. The keys will be <code>'store'</code>, <code>'addr'</code> and <code>'unit_price'</code>. Oh, we'll also need a key <code>'quantity'</code> since otherwise there won't be a good place to keep it.\n",
    "\n",
    "Starting with your previous definition of <code>myGifts</code>, you can keep all of its keys the same -- they are the description of the gift, after all. But instead of the values being the quantity, <u>make the values dictionaries in themselves</u>, with the keys listed above. Keep the item quantities the same. You can make the values anything you want, but they should be of the right type. For example, the dictionary for the key <code>pair of red socks</code> might look like<br>\n",
    "<code>{'store':'Walmart', 'addr':'Biddeford', 'unit_price':3.79, 'quantity':1}</code>"
   ]
  },
  {
   "cell_type": "code",
   "execution_count": 24,
   "metadata": {},
   "outputs": [],
   "source": [
    "# Your code to create the new dictionary myGifts goes here.\n",
    "\n",
    "myGifts = {\n",
    "    \"pair of red socks\" : {\"store\":\"Walmart\", \"addr\":\"Biddeford\", \"unit_price\":3.79, \"quantity\":1},\n",
    "    \"brown orangutan\" : {\"store\":\"KFC\", \"addr\":\"Ireland\", \"unit_price\":10000000, \"quantity\":6},\n",
    "    \"pair of long underwear\" : {\"store\":\"CVS\", \"addr\":\"New York\", \"unit_price\":500, \"quantity\":2}\n",
    "}"
   ]
  },
  {
   "cell_type": "code",
   "execution_count": 25,
   "metadata": {},
   "outputs": [],
   "source": [
    "# Code check block - don't change this cell.\n",
    "assert myGifts and type(myGifts).__name__ == 'dict' and len(myGifts.keys()) == 3\n",
    "_k = list(myGifts.keys())\n",
    "assert len(_k) == 3  # there are three gift items\n",
    "assert myGifts['brown orangutan']['quantity'] == 6\n",
    "assert sum([myGifts[__k]['quantity'] for __k in _k]) == 9\n",
    "del _k  # _k no longer exists"
   ]
  },
  {
   "cell_type": "markdown",
   "metadata": {},
   "source": [
    "Now we are going to update <code>myGifts</code> by adding one Komodo dragon. You can make up the store, address and unit price. Note that it is currently illegal for a U.S. store to sell such animals. FMI, see https://www.quora.com/How-can-I-buy-a-Komodo-Dragon-and-have-it-shipped-to-my-house."
   ]
  },
  {
   "cell_type": "code",
   "execution_count": 26,
   "metadata": {},
   "outputs": [],
   "source": [
    "# Your code to add a new entry into myGifts goes here.\n",
    "\n",
    "myGifts[\"Komodo dragon\"] =  {\"store\":\"Petsmart\", \"addr\":\"Mexico\", \"unit_price\":2000, \"quantity\":1}"
   ]
  },
  {
   "cell_type": "code",
   "execution_count": 27,
   "metadata": {},
   "outputs": [],
   "source": [
    "# Code check block - don't change this cell.\n",
    "assert myGifts and type(myGifts).__name__ == 'dict' and len(myGifts.keys()) == 4\n",
    "_k = list(myGifts.keys())\n",
    "assert sum([myGifts[__k]['quantity'] for __k in _k]) == 10\n",
    "assert len(myGifts['Komodo dragon'].keys()) == 4"
   ]
  },
  {
   "cell_type": "markdown",
   "metadata": {},
   "source": [
    "Functions are a very important part of controlling the complexity of a program. As we will discuss later, functions create the verbs in a vocabulary for the class of problems that your program is solving. Here, we will write some functions that can take <code>myGifts</code> as an argument and answer questions about your gift list.\n",
    "\n",
    "Define the following functions, where <code>gifts</code> and <code>description</code> are parameters: when you call the functions, make the first argument the name of your dictionary (<code>myGifts</code>):\n",
    "<ul>\n",
    "   <li><code>orangutanStore(gifts)</code>, which returns the name of the store where you can buy orangutans.\n",
    "   <li><code>numberOf(gifts, description)</code>, which returns the quantity of a gift whose description (e.g., <code>'pair of red socks'</code>) is given as <code>description</code>.\n",
    "   <li><code>total_cost(gifts)</code>, which returns the total dollar amount (quantity times unit price) for all gifts in the dictionary </ul>"
   ]
  },
  {
   "cell_type": "code",
   "execution_count": 33,
   "metadata": {},
   "outputs": [],
   "source": [
    "# Your code to define orangutanStore(g) goes here.\n",
    "def orangutanStore(gifts):\n",
    "    \n",
    "    return gifts[\"brown orangutan\"][\"store\"]\n",
    "\n",
    "# Your code to define numberOf(g, d) goes here.\n",
    "def numberOf(gifts, description):\n",
    "    \n",
    "    return gifts[description][\"quantity\"]\n",
    "\n",
    "# Your code to define total_cost(g) goes here. This one may need a loop.\n",
    "def total_cost(gifts):\n",
    "    \n",
    "    cost = 0\n",
    "    \n",
    "    for i in gifts.keys():\n",
    "        cost += ( gifts[i][\"unit_price\"] * gifts[i][\"quantity\"] )\n",
    "    \n",
    "    return cost"
   ]
  },
  {
   "cell_type": "code",
   "execution_count": 34,
   "metadata": {},
   "outputs": [
    {
     "name": "stdout",
     "output_type": "stream",
     "text": [
      "You can buy brown orangutans at KFC.\n",
      "You asked for 6 brown orangutans.\n",
      "The total cost of all of your gifts would be $60,003,003.79.\n"
     ]
    }
   ],
   "source": [
    "# Code check block - don't change this cell.\n",
    "assert orangutanStore(myGifts) and type(orangutanStore(myGifts)).__name__ == 'str'\n",
    "print(\"You can buy brown orangutans at {0}.\".format(orangutanStore(myGifts)))\n",
    "assert numberOf(myGifts, 'brown orangutan') == 6\n",
    "print(\"You asked for {0} brown orangutans.\".format(numberOf(myGifts, 'brown orangutan')))\n",
    "assert total_cost(myGifts) > 0\n",
    "print(\"The total cost of all of your gifts would be ${0:,.2f}.\".format(total_cost(myGifts)))"
   ]
  },
  {
   "cell_type": "code",
   "execution_count": null,
   "metadata": {},
   "outputs": [],
   "source": []
  }
 ],
 "metadata": {
  "kernelspec": {
   "display_name": "Python 3 (ipykernel)",
   "language": "python",
   "name": "python3"
  },
  "language_info": {
   "codemirror_mode": {
    "name": "ipython",
    "version": 3
   },
   "file_extension": ".py",
   "mimetype": "text/x-python",
   "name": "python",
   "nbconvert_exporter": "python",
   "pygments_lexer": "ipython3",
   "version": "3.8.8"
  }
 },
 "nbformat": 4,
 "nbformat_minor": 4
}
