{
 "cells": [
  {
   "cell_type": "code",
   "execution_count": 5,
   "id": "a152ebc0-df07-4c0d-be99-47abd60e4df9",
   "metadata": {},
   "outputs": [],
   "source": [
    "#Non-custom imports.\n",
    "#\n",
    "#Imports for unused modules are commented out to minimize errors and setup.\n",
    "\n",
    "import matplotlib as mpl\n",
    "import matplotlib.pyplot as plt\n",
    "import numpy as np\n",
    "import math\n",
    "import time\n",
    "import matplotlib.animation as animation\n",
    "import seaborn as sns\n",
    "#from graphics import *\n",
    "import sys\n",
    "import random\n",
    "import re\n",
    "from tqdm import tqdm\n",
    "import pandas as pd\n",
    "import copy"
   ]
  },
  {
   "cell_type": "code",
   "execution_count": 6,
   "id": "9f13ce32-1c1c-4f2c-bc91-46b0c98ed0dd",
   "metadata": {},
   "outputs": [],
   "source": [
    "def step(bodies, Δt, C=[1/6, 1/3, 1/3, 1/6], G=6.67430E-11):\n",
    "    \n",
    "    ND = len(bodies[0][1])\n",
    "    N = len(bodies)\n",
    "    \n",
    "    ms = np.zeros(N)\n",
    "    P_0 = np.zeros([N, ND])\n",
    "    v_0 = np.zeros([N, ND])\n",
    "    \n",
    "    for i in range(N):\n",
    "        ms[i], P_0[i], v_0[i] = bodies[i][:]\n",
    "    \n",
    "    P_1 = np.zeros([N, ND])\n",
    "    \n",
    "    for i in range(N):\n",
    "        \n",
    "        #### Position ####\n",
    "        \n",
    "        k_1 = v_0[i]\n",
    "\n",
    "        a = np.zeros(ND)\n",
    "        for j in range(N):\n",
    "            if (j != i):\n",
    "                r = P_0[j] - (P_0[i] + (Δt/2)*k_1)\n",
    "                a = a + (G*ms[j]/(np.linalg.norm(r)**3))*r\n",
    "        k_2 = v_0[i] + (Δt/2)*a\n",
    "\n",
    "        a = np.zeros(ND)\n",
    "        for j in range(N):\n",
    "            if (j != i):\n",
    "                r = P_0[j] - (P_0[i] + (Δt/2)*k_2)\n",
    "                a = a + (G*ms[j]/(np.linalg.norm(r)**3))*r\n",
    "        k_3 = v_0[i] + (Δt/2)*a\n",
    "\n",
    "        a = np.zeros(ND)\n",
    "        for j in range(N):\n",
    "            if (j != i):\n",
    "                r = P_0[j] - (P_0[i] + k_3*Δt)\n",
    "                a = a + (G*ms[j]/(np.linalg.norm(r)**3))*r\n",
    "        k_4 = v_0[i] + Δt*a\n",
    "        \n",
    "\n",
    "        P_1[i] = P_0[i] + Δt*(C[0]*k_1 + C[1]*k_2 + C[2]*k_3 + C[3]*k_4)\n",
    "    \n",
    "    \n",
    "    v_1 = np.zeros([N, ND])\n",
    "    \n",
    "    for i in range(N):\n",
    "        #### Velocity ####\n",
    "        \n",
    "        a = np.zeros(ND)\n",
    "        for j in range(N):\n",
    "            if (j != i):\n",
    "                r = P_0[j] - P_0[i]\n",
    "                a = a + (G*ms[j]/(np.linalg.norm(r)**3))*r\n",
    "        k_1 = a\n",
    "\n",
    "        a = np.zeros(ND)\n",
    "        for j in range(N):\n",
    "            if (j != i):\n",
    "                r = P_1[j] - P_1[i]\n",
    "                a = a + (G*ms[j]/(np.linalg.norm(r)**3))*r\n",
    "        k_2 = a\n",
    "        \n",
    "\n",
    "        v_1[i] = v_0[i] + (1/2)*Δt*(k_1 + k_2)\n",
    "    \n",
    "    \n",
    "    newbodies = bodies\n",
    "    for i in range(N):\n",
    "        newbodies[i][1] = P_1[i]\n",
    "        newbodies[i][2] = v_1[i]\n",
    "    \n",
    "    return newbodies"
   ]
  },
  {
   "cell_type": "code",
   "execution_count": 7,
   "id": "a6d71d68-6ded-4036-a3e8-d9a0af103c27",
   "metadata": {},
   "outputs": [],
   "source": [
    "def sim(bodies, t_0, t_1, Δt, C, G=6.67430E-11):\n",
    "    Ps = [[] for i in range(0,len(bodies))]\n",
    "    for i in np.arange(t_0, t_1+Δt, Δt):\n",
    "        bodies = step(bodies, Δt, C, G)\n",
    "        for j in range(len(bodies)):\n",
    "            Ps[j].append(bodies[j][1])\n",
    "    \n",
    "    return bodies, Ps"
   ]
  },
  {
   "cell_type": "code",
   "execution_count": 8,
   "id": "66e3da96-7046-4c9b-83c8-95e429c9c602",
   "metadata": {},
   "outputs": [
    {
     "data": {
      "text/plain": [
       "[<matplotlib.lines.Line2D at 0x1b2eace3340>]"
      ]
     },
     "execution_count": 8,
     "metadata": {},
     "output_type": "execute_result"
    },
    {
     "data": {
      "image/png": "[encoded data removed]",
      "text/plain": [
       "<Figure size 432x288 with 1 Axes>"
      ]
     },
     "metadata": {
      "needs_background": "light"
     },
     "output_type": "display_data"
    }
   ],
   "source": [
    "bodies0 = [\n",
    "    [1.0E65, [0, 0], [0, 0]],\n",
    "    [0.001, [2.0E20, 0], [0, 0]]\n",
    "]\n",
    "\n",
    "G=6.67430E-11\n",
    "\n",
    "bodies0[1][2][1] = np.sqrt((2.0E20)*(G*(1.0E65)/(2.0E20)**2))\n",
    "\n",
    "ω = bodies0[1][2][1]/2.0E20\n",
    "\n",
    "t = np.arange(0, 60000000, 1)\n",
    "xs = (2.0E20)*np.cos(ω*t)\n",
    "ys = (2.0E20)*np.sin(ω*t)\n",
    "\n",
    "xs1 = []\n",
    "ys1 = []\n",
    "bodies = copy.deepcopy(bodies0)\n",
    "bodies, Ps = sim(bodies, 0, 8640000000/100000, 100, [0.0, 0.75, 0.25, 0.0])\n",
    "\n",
    "xs = []\n",
    "ys = []\n",
    "for i in range(len(Ps[0])):\n",
    "    xs.append(Ps[1][i][0])\n",
    "    ys.append(Ps[1][i][1])\n",
    "\n",
    "fig, axe = plt.subplots()\n",
    "axe.plot(xs, ys, \"RED\")\n",
    "axe.axis('equal')\n",
    "\n",
    "axe.plot(xs1, ys1, \"BLUE\")"
   ]
  },
  {
   "cell_type": "code",
   "execution_count": 81,
   "id": "f78235ea-388a-4db3-b3ad-0013180bb67b",
   "metadata": {},
   "outputs": [
    {
     "name": "stdout",
     "output_type": "stream",
     "text": [
      "[-1.53908457e+01  2.78803269e+07]\n"
     ]
    }
   ],
   "source": [
    "print(np.array([xs[-1], ys[-1]]) - np.array([xs[0], ys[0]]))"
   ]
  },
  {
   "cell_type": "code",
   "execution_count": 126,
   "id": "e65ebc5b-5d8c-480e-b361-d4a841900819",
   "metadata": {},
   "outputs": [
    {
     "name": "stdout",
     "output_type": "stream",
     "text": [
      "[ -2312.30129457 606181.5816646 ]\n"
     ]
    },
    {
     "data": {
      "text/plain": [
       "[<matplotlib.lines.Line2D at 0x1b3001bfb20>]"
      ]
     },
     "execution_count": 126,
     "metadata": {},
     "output_type": "execute_result"
    },
    {
     "data": {
      "image/png": "[encoded data removed]",
      "text/plain": [
       "<Figure size 432x288 with 1 Axes>"
      ]
     },
     "metadata": {
      "needs_background": "light"
     },
     "output_type": "display_data"
    },
    {
     "data": {
      "image/png": "[encoded data removed]",
      "text/plain": [
       "<Figure size 432x288 with 1 Axes>"
      ]
     },
     "metadata": {
      "needs_background": "light"
     },
     "output_type": "display_data"
    }
   ],
   "source": [
    "bodies0 = [\n",
    "    [5.97e24, [0, 0], [0, 0]],\n",
    "    [0.07346e24, [0.4055e9, 0], [0, 0.970e3]]\n",
    "]\n",
    "\n",
    "G=6.67430E-11\n",
    "\n",
    "bodies = copy.deepcopy(bodies0)\n",
    "bodies, Ps = sim(bodies, 0, 2360448*100, 1000, [0.25, 0.25, 0.25, 0.25])\n",
    "\n",
    "fig, axe = plt.subplots()\n",
    "axe.axis('equal')\n",
    "\n",
    "xs = []\n",
    "ys = []\n",
    "for i in range(len(Ps[0])):\n",
    "    xs.append(Ps[1][i][0] - Ps[0][i][0])\n",
    "    ys.append(Ps[1][i][1] - Ps[0][i][1])\n",
    "axe.plot(xs, ys, \"RED\")\n",
    "\n",
    "print(np.array([xs[-1]-xs[0], ys[-1]-ys[0]]))\n",
    "\n",
    "fig2, axe2 = plt.subplots()\n",
    "axe2.axis('equal')\n",
    "\n",
    "xs = []\n",
    "ys = []\n",
    "xs2 = []\n",
    "ys2 = []\n",
    "for i in range(len(Ps[0])):\n",
    "    xs.append(Ps[1][i][0])\n",
    "    ys.append(Ps[1][i][1])\n",
    "    xs2.append(Ps[0][i][0])\n",
    "    ys2.append(Ps[0][i][1])\n",
    "axe2.plot(xs, ys, \"RED\")\n",
    "axe2.plot(xs2, ys2, \"BLUE\")"
   ]
  },
  {
   "cell_type": "code",
   "execution_count": 132,
   "id": "b3f9bfb8-3822-4428-bf4f-5c527e76b32d",
   "metadata": {},
   "outputs": [
    {
     "name": "stdout",
     "output_type": "stream",
     "text": [
      "[-2.96558454e+11  2.95908336e+10]\n"
     ]
    },
    {
     "data": {
      "image/png": "[encoded data removed]",
      "text/plain": [
       "<Figure size 432x288 with 1 Axes>"
      ]
     },
     "metadata": {
      "needs_background": "light"
     },
     "output_type": "display_data"
    },
    {
     "data": {
      "image/png": "[encoded data removed]",
      "text/plain": [
       "<Figure size 432x288 with 1 Axes>"
      ]
     },
     "metadata": {
      "needs_background": "light"
     },
     "output_type": "display_data"
    }
   ],
   "source": [
    "bodies0 = [\n",
    "    [1988500e24, [0, 0], [0, 0]],\n",
    "    [5.97e24, [147.1e9, 0], [0, 30.29e3]],\n",
    "    [0.07346e24, [0.4055e9+147.1e9, 0], [0, 0.970e3+30.29e3]]\n",
    "]\n",
    "\n",
    "G=6.67430E-11\n",
    "\n",
    "bodies = copy.deepcopy(bodies0)\n",
    "bodies, Ps = sim(bodies, 0, 2360448*100, 1000, [0.0, 0.75, 0.25, 0.0])\n",
    "\n",
    "fig, axe = plt.subplots()\n",
    "axe.axis('equal')\n",
    "\n",
    "xs = []\n",
    "ys = []\n",
    "for i in range(len(Ps[0])):\n",
    "    xs.append(Ps[1][i][0] - Ps[0][i][0])\n",
    "    ys.append(Ps[1][i][1] - Ps[0][i][1])\n",
    "axe.plot(xs, ys, \"BLUE\")\n",
    "\n",
    "fig2, axe2 = plt.subplots()\n",
    "axe2.axis('equal')\n",
    "\n",
    "xs = []\n",
    "ys = []\n",
    "xs2 = []\n",
    "ys2 = []\n",
    "xs3 = []\n",
    "ys3 = []\n",
    "for i in range(len(Ps[0])):\n",
    "    xs.append(Ps[1][i][0])\n",
    "    ys.append(Ps[1][i][1])\n",
    "    xs2.append(Ps[0][i][0])\n",
    "    ys2.append(Ps[0][i][1])\n",
    "    xs3.append(Ps[2][i][0])\n",
    "    ys3.append(Ps[2][i][1])\n",
    "axe2.plot(xs, ys, \"BLUE\")\n",
    "axe2.plot(xs2, ys2, \"RED\")\n",
    "axe2.plot(xs3, ys3, \"GREEN\")\n",
    "\n",
    "print(np.array([xs[-1], ys[-1]]) - np.array([xs[0], ys[0]]))"
   ]
  },
  {
   "cell_type": "code",
   "execution_count": 145,
   "id": "75464f88-5bb2-43ae-a16f-008b530ff796",
   "metadata": {},
   "outputs": [
    {
     "name": "stdout",
     "output_type": "stream",
     "text": [
      "[-1.28543514e+11 -1.47876678e+11]\n"
     ]
    },
    {
     "data": {
      "image/png": "[encoded data removed]",
      "text/plain": [
       "<Figure size 432x288 with 1 Axes>"
      ]
     },
     "metadata": {
      "needs_background": "light"
     },
     "output_type": "display_data"
    },
    {
     "data": {
      "image/png": "[encoded data removed]",
      "text/plain": [
       "<Figure size 432x288 with 1 Axes>"
      ]
     },
     "metadata": {
      "needs_background": "light"
     },
     "output_type": "display_data"
    },
    {
     "data": {
      "image/png": "[encoded data removed]",
      "text/plain": [
       "<Figure size 432x288 with 1 Axes>"
      ]
     },
     "metadata": {
      "needs_background": "light"
     },
     "output_type": "display_data"
    },
    {
     "data": {
      "image/png": "[encoded data removed]",
      "text/plain": [
       "<Figure size 432x288 with 1 Axes>"
      ]
     },
     "metadata": {
      "needs_background": "light"
     },
     "output_type": "display_data"
    }
   ],
   "source": [
    "bodies0 = [\n",
    "    [1988500e24, [0, 0], [0, 0]],\n",
    "    [5.97e24, [147.1e9, 0], [0, 30.29e3]],\n",
    "    [0.07346e24, [147.1e9, -0.4055e9], [0.970e3, 30.29e3]]\n",
    "]\n",
    "\n",
    "G=6.67430E-11\n",
    "\n",
    "bodies = copy.deepcopy(bodies0)\n",
    "bodies, Ps = sim(bodies, 0, 2360448*1000, 1000, [0.0, 0.75, 0.25, 0.0])\n",
    "\n",
    "fig, axe = plt.subplots()\n",
    "axe.axis('equal')\n",
    "\n",
    "xs = []\n",
    "ys = []\n",
    "for i in range(len(Ps[0])):\n",
    "    xs.append(Ps[1][i][0] - Ps[0][i][0])\n",
    "    ys.append(Ps[1][i][1] - Ps[0][i][1])\n",
    "axe.plot(xs, ys, \"BLUE\")\n",
    "\n",
    "fig3, axe3 = plt.subplots()\n",
    "axe3.axis('equal')\n",
    "xs = []\n",
    "ys = []\n",
    "for i in range(len(Ps[0])):\n",
    "    xs.append(Ps[2][i][0] - Ps[1][i][0])\n",
    "    ys.append(Ps[2][i][1] - Ps[1][i][1])\n",
    "axe3.plot(xs, ys, \"GREEN\")\n",
    "\n",
    "fig2, axe2 = plt.subplots()\n",
    "axe2.axis('equal')\n",
    "\n",
    "xs = []\n",
    "ys = []\n",
    "xs2 = []\n",
    "ys2 = []\n",
    "xs3 = []\n",
    "ys3 = []\n",
    "for i in range(len(Ps[0])):\n",
    "    xs.append(Ps[1][i][0])\n",
    "    ys.append(Ps[1][i][1])\n",
    "    xs2.append(Ps[0][i][0])\n",
    "    ys2.append(Ps[0][i][1])\n",
    "    xs3.append(Ps[2][i][0])\n",
    "    ys3.append(Ps[2][i][1])\n",
    "axe2.plot(xs, ys, \"BLUE\")\n",
    "axe2.plot(xs3, ys3, \"GREEN\")\n",
    "\n",
    "fig4, axe4 = plt.subplots()\n",
    "axe4.axis('equal')\n",
    "\n",
    "xs = []\n",
    "ys = []\n",
    "xs2 = []\n",
    "ys2 = []\n",
    "xs3 = []\n",
    "ys3 = []\n",
    "for i in range(len(Ps[0])):\n",
    "    xs.append(Ps[1][i][0])\n",
    "    ys.append(Ps[1][i][1])\n",
    "    xs2.append(Ps[0][i][0])\n",
    "    ys2.append(Ps[0][i][1])\n",
    "    xs3.append(Ps[2][i][0])\n",
    "    ys3.append(Ps[2][i][1])\n",
    "axe4.plot(xs, ys, \"BLUE\")\n",
    "axe4.plot(xs2, ys2, \"RED\")\n",
    "axe4.plot(xs3, ys3, \"GREEN\")\n",
    "\n",
    "print(np.array([xs[-1], ys[-1]]) - np.array([xs[0], ys[0]]))"
   ]
  },
  {
   "cell_type": "code",
   "execution_count": 11,
   "id": "e87653af-34e4-495a-b05a-1441bf296ecd",
   "metadata": {},
   "outputs": [
    {
     "name": "stderr",
     "output_type": "stream",
     "text": [
      "100%|████████████████████████████████████████████████████████████████████████████████████| 6/6 [01:04<00:00, 10.74s/it]\n",
      " 20%|████████████████▊                                                                   | 1/5 [00:19<01:18, 19.68s/it]\n"
     ]
    },
    {
     "ename": "KeyboardInterrupt",
     "evalue": "",
     "output_type": "error",
     "traceback": [
      "\u001b[1;31m---------------------------------------------------------------------------\u001b[0m",
      "\u001b[1;31mKeyboardInterrupt\u001b[0m                         Traceback (most recent call last)",
      "\u001b[1;32m~\\AppData\\Local\\Temp/ipykernel_16620/2186999196.py\u001b[0m in \u001b[0;36m<module>\u001b[1;34m\u001b[0m\n\u001b[0;32m     20\u001b[0m                 \u001b[0mxs\u001b[0m\u001b[1;33m.\u001b[0m\u001b[0mappend\u001b[0m\u001b[1;33m(\u001b[0m\u001b[1;33m[\u001b[0m\u001b[0mi\u001b[0m\u001b[1;33m,\u001b[0m \u001b[0mj\u001b[0m\u001b[1;33m,\u001b[0m \u001b[0mk\u001b[0m\u001b[1;33m,\u001b[0m \u001b[0ml\u001b[0m\u001b[1;33m]\u001b[0m\u001b[1;33m)\u001b[0m\u001b[1;33m\u001b[0m\u001b[1;33m\u001b[0m\u001b[0m\n\u001b[0;32m     21\u001b[0m                 \u001b[0mx_0\u001b[0m \u001b[1;33m=\u001b[0m \u001b[0mbodies\u001b[0m\u001b[1;33m[\u001b[0m\u001b[1;36m1\u001b[0m\u001b[1;33m]\u001b[0m\u001b[1;33m[\u001b[0m\u001b[1;36m1\u001b[0m\u001b[1;33m]\u001b[0m\u001b[1;33m[\u001b[0m\u001b[1;36m0\u001b[0m\u001b[1;33m]\u001b[0m\u001b[1;33m\u001b[0m\u001b[1;33m\u001b[0m\u001b[0m\n\u001b[1;32m---> 22\u001b[1;33m                 \u001b[0mx_1\u001b[0m \u001b[1;33m=\u001b[0m \u001b[0msim\u001b[0m\u001b[1;33m(\u001b[0m\u001b[0mbodies\u001b[0m\u001b[1;33m,\u001b[0m \u001b[1;36m0\u001b[0m\u001b[1;33m,\u001b[0m \u001b[1;36m10\u001b[0m\u001b[1;33m,\u001b[0m \u001b[1;36m0.001\u001b[0m\u001b[1;33m,\u001b[0m \u001b[1;33m[\u001b[0m\u001b[0mi\u001b[0m\u001b[1;33m,\u001b[0m \u001b[0mj\u001b[0m\u001b[1;33m,\u001b[0m \u001b[0mk\u001b[0m\u001b[1;33m,\u001b[0m \u001b[0ml\u001b[0m\u001b[1;33m]\u001b[0m\u001b[1;33m)\u001b[0m\u001b[1;33m[\u001b[0m\u001b[1;36m1\u001b[0m\u001b[1;33m]\u001b[0m\u001b[1;33m[\u001b[0m\u001b[1;36m1\u001b[0m\u001b[1;33m]\u001b[0m\u001b[1;33m[\u001b[0m\u001b[1;36m0\u001b[0m\u001b[1;33m]\u001b[0m\u001b[1;33m\u001b[0m\u001b[1;33m\u001b[0m\u001b[0m\n\u001b[0m\u001b[0;32m     23\u001b[0m                 \u001b[0mys\u001b[0m\u001b[1;33m.\u001b[0m\u001b[0mappend\u001b[0m\u001b[1;33m(\u001b[0m\u001b[1;33m(\u001b[0m\u001b[0mu\u001b[0m\u001b[1;33m-\u001b[0m\u001b[1;33m(\u001b[0m\u001b[0mx_1\u001b[0m\u001b[1;33m-\u001b[0m\u001b[0mx_0\u001b[0m\u001b[1;33m)\u001b[0m\u001b[1;33m)\u001b[0m\u001b[1;33m**\u001b[0m\u001b[1;36m2\u001b[0m\u001b[1;33m)\u001b[0m\u001b[1;33m\u001b[0m\u001b[1;33m\u001b[0m\u001b[0m\n\u001b[0;32m     24\u001b[0m \u001b[1;33m\u001b[0m\u001b[0m\n",
      "\u001b[1;32m~\\AppData\\Local\\Temp/ipykernel_16620/335000722.py\u001b[0m in \u001b[0;36msim\u001b[1;34m(bodies, t_0, t_1, Δt, C, G)\u001b[0m\n\u001b[0;32m      2\u001b[0m     \u001b[0mPs\u001b[0m \u001b[1;33m=\u001b[0m \u001b[1;33m[\u001b[0m\u001b[1;33m[\u001b[0m\u001b[1;33m]\u001b[0m \u001b[1;32mfor\u001b[0m \u001b[0mi\u001b[0m \u001b[1;32min\u001b[0m \u001b[0mrange\u001b[0m\u001b[1;33m(\u001b[0m\u001b[1;36m0\u001b[0m\u001b[1;33m,\u001b[0m\u001b[0mlen\u001b[0m\u001b[1;33m(\u001b[0m\u001b[0mbodies\u001b[0m\u001b[1;33m)\u001b[0m\u001b[1;33m)\u001b[0m\u001b[1;33m]\u001b[0m\u001b[1;33m\u001b[0m\u001b[1;33m\u001b[0m\u001b[0m\n\u001b[0;32m      3\u001b[0m     \u001b[1;32mfor\u001b[0m \u001b[0mi\u001b[0m \u001b[1;32min\u001b[0m \u001b[0mnp\u001b[0m\u001b[1;33m.\u001b[0m\u001b[0marange\u001b[0m\u001b[1;33m(\u001b[0m\u001b[0mt_0\u001b[0m\u001b[1;33m,\u001b[0m \u001b[0mt_1\u001b[0m\u001b[1;33m+\u001b[0m\u001b[0mΔt\u001b[0m\u001b[1;33m,\u001b[0m \u001b[0mΔt\u001b[0m\u001b[1;33m)\u001b[0m\u001b[1;33m:\u001b[0m\u001b[1;33m\u001b[0m\u001b[1;33m\u001b[0m\u001b[0m\n\u001b[1;32m----> 4\u001b[1;33m         \u001b[0mbodies\u001b[0m \u001b[1;33m=\u001b[0m \u001b[0mstep\u001b[0m\u001b[1;33m(\u001b[0m\u001b[0mbodies\u001b[0m\u001b[1;33m,\u001b[0m \u001b[0mΔt\u001b[0m\u001b[1;33m,\u001b[0m \u001b[0mC\u001b[0m\u001b[1;33m,\u001b[0m \u001b[0mG\u001b[0m\u001b[1;33m)\u001b[0m\u001b[1;33m\u001b[0m\u001b[1;33m\u001b[0m\u001b[0m\n\u001b[0m\u001b[0;32m      5\u001b[0m         \u001b[1;32mfor\u001b[0m \u001b[0mj\u001b[0m \u001b[1;32min\u001b[0m \u001b[0mrange\u001b[0m\u001b[1;33m(\u001b[0m\u001b[0mlen\u001b[0m\u001b[1;33m(\u001b[0m\u001b[0mbodies\u001b[0m\u001b[1;33m)\u001b[0m\u001b[1;33m)\u001b[0m\u001b[1;33m:\u001b[0m\u001b[1;33m\u001b[0m\u001b[1;33m\u001b[0m\u001b[0m\n\u001b[0;32m      6\u001b[0m             \u001b[0mPs\u001b[0m\u001b[1;33m[\u001b[0m\u001b[0mj\u001b[0m\u001b[1;33m]\u001b[0m\u001b[1;33m.\u001b[0m\u001b[0mappend\u001b[0m\u001b[1;33m(\u001b[0m\u001b[0mbodies\u001b[0m\u001b[1;33m[\u001b[0m\u001b[0mj\u001b[0m\u001b[1;33m]\u001b[0m\u001b[1;33m[\u001b[0m\u001b[1;36m1\u001b[0m\u001b[1;33m]\u001b[0m\u001b[1;33m)\u001b[0m\u001b[1;33m\u001b[0m\u001b[1;33m\u001b[0m\u001b[0m\n",
      "\u001b[1;32m~\\AppData\\Local\\Temp/ipykernel_16620/109597298.py\u001b[0m in \u001b[0;36mstep\u001b[1;34m(bodies, Δt, C, G)\u001b[0m\n\u001b[0;32m      9\u001b[0m \u001b[1;33m\u001b[0m\u001b[0m\n\u001b[0;32m     10\u001b[0m     \u001b[1;32mfor\u001b[0m \u001b[0mi\u001b[0m \u001b[1;32min\u001b[0m \u001b[0mrange\u001b[0m\u001b[1;33m(\u001b[0m\u001b[0mN\u001b[0m\u001b[1;33m)\u001b[0m\u001b[1;33m:\u001b[0m\u001b[1;33m\u001b[0m\u001b[1;33m\u001b[0m\u001b[0m\n\u001b[1;32m---> 11\u001b[1;33m         \u001b[0mms\u001b[0m\u001b[1;33m[\u001b[0m\u001b[0mi\u001b[0m\u001b[1;33m]\u001b[0m\u001b[1;33m,\u001b[0m \u001b[0mP_0\u001b[0m\u001b[1;33m[\u001b[0m\u001b[0mi\u001b[0m\u001b[1;33m]\u001b[0m\u001b[1;33m,\u001b[0m \u001b[0mv_0\u001b[0m\u001b[1;33m[\u001b[0m\u001b[0mi\u001b[0m\u001b[1;33m]\u001b[0m \u001b[1;33m=\u001b[0m \u001b[0mbodies\u001b[0m\u001b[1;33m[\u001b[0m\u001b[0mi\u001b[0m\u001b[1;33m]\u001b[0m\u001b[1;33m[\u001b[0m\u001b[1;33m:\u001b[0m\u001b[1;33m]\u001b[0m\u001b[1;33m\u001b[0m\u001b[1;33m\u001b[0m\u001b[0m\n\u001b[0m\u001b[0;32m     12\u001b[0m \u001b[1;33m\u001b[0m\u001b[0m\n\u001b[0;32m     13\u001b[0m     \u001b[0mP_1\u001b[0m \u001b[1;33m=\u001b[0m \u001b[0mnp\u001b[0m\u001b[1;33m.\u001b[0m\u001b[0mzeros\u001b[0m\u001b[1;33m(\u001b[0m\u001b[1;33m[\u001b[0m\u001b[0mN\u001b[0m\u001b[1;33m,\u001b[0m \u001b[0mND\u001b[0m\u001b[1;33m]\u001b[0m\u001b[1;33m)\u001b[0m\u001b[1;33m\u001b[0m\u001b[1;33m\u001b[0m\u001b[0m\n",
      "\u001b[1;31mKeyboardInterrupt\u001b[0m: "
     ]
    }
   ],
   "source": [
    "bodies = [\n",
    "    [1.0E65, [0, 0], [0, 0]],\n",
    "    [1, [2.0E20, 0], [0, 0]]\n",
    "]\n",
    "\n",
    "G=6.67430E-11\n",
    "x_0 = 2.0E20\n",
    "m = 1.0E65\n",
    "a = -G*m/(x_0**2)\n",
    "x_1 = x_0 + (1/2)*a*(10**2)\n",
    "\n",
    "u = x_1-x_0\n",
    "\n",
    "xs = []\n",
    "ys = []\n",
    "for i in np.arange(0, 1.2, 0.2):\n",
    "    for j in tqdm(np.arange(0, 1.2-i, 0.2)):\n",
    "        for k in np.arange(0, 1.2-i-j, 0.2):\n",
    "            for l in np.arange(0, 1.2-i-j-k, 0.2):\n",
    "                xs.append([i, j, k, l])\n",
    "                x_0 = bodies[1][1][0]\n",
    "                x_1 = sim(bodies, 0, 10, 0.001, [i, j, k, l])[1][1][0]\n",
    "                ys.append((u-(x_1-x_0))**2)\n",
    "\n",
    "print(xs[ys.index(min(ys))])"
   ]
  },
  {
   "cell_type": "code",
   "execution_count": null,
   "id": "c8f937ba-6f6b-4e8f-b8ed-8c8cf3f08f80",
   "metadata": {},
   "outputs": [],
   "source": [
    "bodies0 = [\n",
    "    [1.0E75, [0, 0], [0, 0]],\n",
    "    [1, [2.0E25, 0], [0, 0]]\n",
    "]\n",
    "\n",
    "G=6.67430E-11\n",
    "x_0 = 2.0E25\n",
    "m = 1.0E75\n",
    "a = -G*m/(x_0**2)\n",
    "u = (1/2)*a*(1000**2)\n",
    "\n",
    "print(x_0 + u)\n",
    "\n",
    "xs = []\n",
    "ys = []\n",
    "for i in np.arange(0, 1.2, 0.2):\n",
    "    for j in tqdm(np.arange(0, 1.2-i, 0.2)):\n",
    "        for k in np.arange(0, 1.2-i-j, 0.2):\n",
    "            for l in np.arange(0, 1.2-i-j-k, 0.2):\n",
    "                xs.append([i, j, k, l])\n",
    "                bodies = copy.deepcopy(bodies0)\n",
    "                v = sim(bodies, 0, 1000, 0.1, [i, j, k, l])[1][1][0] - x_0\n",
    "                ys.append((u-v)**2)\n",
    "\n",
    "print(min(ys))\n",
    "print(np.sqrt(min(ys)))\n",
    "print(ys.index(min(ys)))\n",
    "print(xs[ys.index(min(ys))])"
   ]
  },
  {
   "cell_type": "code",
   "execution_count": null,
   "id": "48c273ff-bb2d-4f2f-88ef-9119a65c685f",
   "metadata": {},
   "outputs": [],
   "source": [
    "bodies = copy.deepcopy(bodies0)\n",
    "\n",
    "v = sim(bodies, 0, 1000, 0.1, [0.0, 0.75, 0.25, 0.0])[1][1][0] - x_0\n",
    "\n",
    "print(u-v)"
   ]
  },
  {
   "cell_type": "code",
   "execution_count": 233,
   "id": "3801dc6a-797f-4ad1-86ea-4a5711a8b1d6",
   "metadata": {},
   "outputs": [
    {
     "name": "stdout",
     "output_type": "stream",
     "text": [
      "[2.000e+25 5.777e+20]\n"
     ]
    },
    {
     "name": "stderr",
     "output_type": "stream",
     "text": [
      "100%|████████████████████████████████████████████████████████████████████████████████████| 6/6 [00:58<00:00,  9.72s/it]\n",
      "100%|████████████████████████████████████████████████████████████████████████████████████| 5/5 [00:37<00:00,  7.53s/it]\n",
      "100%|████████████████████████████████████████████████████████████████████████████████████| 4/4 [00:21<00:00,  5.30s/it]\n",
      "100%|████████████████████████████████████████████████████████████████████████████████████| 3/3 [00:10<00:00,  3.59s/it]\n",
      "100%|████████████████████████████████████████████████████████████████████████████████████| 2/2 [00:04<00:00,  2.15s/it]\n",
      "100%|████████████████████████████████████████████████████████████████████████████████████| 1/1 [00:01<00:00,  1.08s/it]\n"
     ]
    },
    {
     "name": "stdout",
     "output_type": "stream",
     "text": [
      "5.776999998831478e+16\n",
      "240353905.706387\n",
      "110\n",
      "[0.4, 0.4, 0.2, 0.0]\n",
      "[ 2.61993005e+11 -1.99994223e+25]\n",
      "1.9999422291656387e+25\n"
     ]
    }
   ],
   "source": [
    "bodies0 = [\n",
    "    [1.0E75, [0, 0], [0, 0]],\n",
    "    [1, [2.0E25, 0], [0, 5.777E19]]\n",
    "]\n",
    "\n",
    "G=6.67430E-11\n",
    "P_0 = np.array(bodies0[1][1])\n",
    "m = 1.0E75\n",
    "a = -G*m/(np.linalg.norm(P_0)**3)*P_0\n",
    "u = np.array([1.999999999165656775058010718090336690429443922353149450672E25, 5.776999999196666531562679458507720469592740477191872E20]) - P_0\n",
    "\n",
    "print(P_0 + u)\n",
    "\n",
    "xs = []\n",
    "ys = []\n",
    "for i in np.arange(0, 1.2, 0.2):\n",
    "    for j in tqdm(np.arange(0, 1.2-i, 0.2)):\n",
    "        for k in np.arange(0, 1.2-i-j, 0.2):\n",
    "            for l in np.arange(0, 1.2-i-j-k, 0.2):\n",
    "                xs.append([i, j, k, l])\n",
    "                bodies = copy.deepcopy(bodies0)\n",
    "                v = np.array(sim(bodies, 0, 10, 0.001, [i, j, k, l])[1][1]) - P_0\n",
    "                ys.append(np.linalg.norm(u-v))\n",
    "\n",
    "print(min(ys))\n",
    "print(np.sqrt(min(ys)))\n",
    "print(ys.index(min(ys)))\n",
    "print(xs[ys.index(min(ys))])\n",
    "\n",
    "bodies = copy.deepcopy(bodies0)\n",
    "\n",
    "v = sim(bodies, 0, 10, 0.001, [1.0, 0.0, 0.0, 0.0])[1][1][0] - P_0\n",
    "\n",
    "print(u-v)\n",
    "print(np.linalg.norm(u-v))"
   ]
  },
  {
   "cell_type": "code",
   "execution_count": 234,
   "id": "b71c8264-ff6a-406f-bb01-de8b89f79ab9",
   "metadata": {},
   "outputs": [
    {
     "name": "stdout",
     "output_type": "stream",
     "text": [
      "[ 7.60209211e+11 -1.99994223e+25]\n",
      "1.999942229165589e+25\n"
     ]
    }
   ],
   "source": [
    "bodies = copy.deepcopy(bodies0)\n",
    "\n",
    "v = sim(bodies, 0, 10, 0.001, [0.4, 0.4, 0.2, 0.0])[1][1][0] - P_0\n",
    "\n",
    "print(u-v)\n",
    "print(np.linalg.norm(u-v))"
   ]
  },
  {
   "cell_type": "code",
   "execution_count": 235,
   "id": "0fd572af-0843-4023-9e03-f29c57a7b9d6",
   "metadata": {},
   "outputs": [
    {
     "name": "stdout",
     "output_type": "stream",
     "text": [
      "[5.776999999799166e+20, 4.621484459710773e+20, 3.465968919686666e+20, 2.310453379726845e+20, 1.1549378398313277e+20, 5.776999999906278e+16, 4.621484459710792e+20, 3.465968919686679e+20, 2.310453379726857e+20, 1.1549378398313257e+20, 5.776999999665111e+16, 3.465968919686694e+20, 2.3104533797268662e+20, 1.1549378398313302e+20, 5.7769999994188056e+16, 2.3104533797268754e+20, 1.1549378398313269e+20, 5.776999999240728e+16, 1.1549378398313398e+20, 5.776999999052235e+16, 5.776999998927054e+16, 4.621484459710792e+20, 3.465968919686679e+20, 2.310453379726857e+20, 1.1549378398313257e+20, 5.776999999665111e+16, 3.465968919686694e+20, 2.3104533797268662e+20, 1.1549378398313302e+20, 5.7769999994188056e+16, 2.3104533797268767e+20, 1.1549378398313269e+20, 5.776999999240728e+16, 1.1549378398313398e+20, 5.776999999052235e+16, 5.776999998927054e+16, 3.465968919686694e+20, 2.3104533797268662e+20, 1.1549378398313302e+20, 5.7769999994188056e+16, 2.3104533797268767e+20, 1.1549378398313269e+20, 5.776999999240728e+16, 1.1549378398313398e+20, 5.776999999052235e+16, 5.776999998927054e+16, 2.3104533797268754e+20, 1.1549378398313269e+20, 5.776999999240728e+16, 1.1549378398313398e+20, 5.776999999052235e+16, 5.776999998927054e+16, 1.1549378398313398e+20, 5.776999999052235e+16, 5.776999998927054e+16, 5.776999998927054e+16, 4.6214844597108113e+20, 3.4659689196866935e+20, 2.3104533797268662e+20, 1.1549378398313302e+20, 5.776999999412252e+16, 3.465968919686706e+20, 2.3104533797268767e+20, 1.1549378398313269e+20, 5.776999999240728e+16, 2.310453379726887e+20, 1.1549378398313398e+20, 5.776999999052235e+16, 1.1549378398313446e+20, 5.776999998927054e+16, 5.776999998846808e+16, 3.465968919686706e+20, 2.3104533797268767e+20, 1.1549378398313269e+20, 5.776999999240728e+16, 2.310453379726887e+20, 1.1549378398313398e+20, 5.776999999052235e+16, 1.1560932397668685e+20, 1.1549378398313446e+20, 5.776999998927054e+16, 5.776999998859915e+16, 2.310453379726887e+20, 1.1549378398313398e+20, 5.776999999052235e+16, 1.1549378398313446e+20, 5.776999998927054e+16, 5.776999998846808e+16, 1.1549378398313446e+20, 5.776999998927054e+16, 5.776999998859915e+16, 5.776999998846808e+16, 3.4659689196867224e+20, 2.3104533797268878e+20, 1.1549378398313393e+20, 5.776999999052235e+16, 2.3104533797268963e+20, 1.1549378398313446e+20, 5.776999998927054e+16, 1.154937839831349e+20, 5.776999998859915e+16, 5.776999998844586e+16, 2.3104533797268963e+20, 1.1549378398313446e+20, 5.776999998927054e+16, 1.154937839831349e+20, 5.776999998859915e+16, 5.776999998844586e+16, 1.154937839831349e+20, 5.776999998859915e+16, 5.776999998831478e+16, 5.776999998844586e+16, 2.310453379726903e+20, 1.154937839831349e+20, 5.776999998859915e+16, 1.1549378398313575e+20, 5.776999998844586e+16, 5.776999998928121e+16, 1.1549378398313575e+20, 5.776999998844586e+16, 5.776999998921567e+16, 5.776999998928121e+16, 1.154937839831366e+20, 5.7769999989150136e+16, 5.776999999002127e+16, 5.776999999002127e+16, 5.776999999150915e+16]\n"
     ]
    }
   ],
   "source": [
    "print(ys)"
   ]
  },
  {
   "cell_type": "code",
   "execution_count": 14,
   "id": "ac1b6d63-4059-456e-b600-5dc04f7864a7",
   "metadata": {},
   "outputs": [
    {
     "data": {
      "text/plain": [
       "array([[[0., 0.],\n",
       "        [0., 0.],\n",
       "        [0., 0.]],\n",
       "\n",
       "       [[0., 0.],\n",
       "        [0., 0.],\n",
       "        [0., 0.]],\n",
       "\n",
       "       [[0., 0.],\n",
       "        [0., 0.],\n",
       "        [0., 0.]]])"
      ]
     },
     "execution_count": 14,
     "metadata": {},
     "output_type": "execute_result"
    }
   ],
   "source": [
    "np.zeros([3, 3, 2])"
   ]
  },
  {
   "cell_type": "code",
   "execution_count": 116,
   "id": "e4f99b54-7cfd-4ba0-bee9-ef4ab9510d20",
   "metadata": {},
   "outputs": [
    {
     "name": "stdout",
     "output_type": "stream",
     "text": [
      "[1.10002714 1.10002714]\n",
      "[1.000431 1.000431]\n",
      "\n",
      "[2.19999077 2.19999077]\n",
      "[1.9997845 1.9997845]\n"
     ]
    }
   ],
   "source": [
    "bodies = [\n",
    "    [100000000, [1, 1], [1, 1]],\n",
    "    [200000000, [2, 2], [2, 2]]\n",
    "]\n",
    "\n",
    "Δt = 0.1\n",
    "\n",
    "G=6.67430E-11\n",
    "\n",
    "ND = len(bodies[0][1])\n",
    "N = len(bodies)\n",
    "\n",
    "ms = np.zeros(N)\n",
    "P_0 = np.zeros([N, ND])\n",
    "v_0 = np.zeros([N, ND])\n",
    "\n",
    "for i in range(N):\n",
    "    ms[i], P_0[i], v_0[i] = bodies[i][:]\n",
    "\n",
    "P_1 = np.zeros([N, ND])\n",
    "\n",
    "for i in range(N):\n",
    "\n",
    "    #### Position ####\n",
    "\n",
    "    k_1 = v_0[i]\n",
    "\n",
    "    a = np.zeros(ND)\n",
    "    for j in range(N):\n",
    "        if (j != i):\n",
    "            r = P_0[j] - (P_0[i] + (Δt/2)*k_1)\n",
    "            a = a + (G*ms[j]/(np.linalg.norm(r)**3))*r\n",
    "    k_2 = v_0[i] + (Δt/2)*a\n",
    "\n",
    "    a = np.zeros(ND)\n",
    "    for j in range(N):\n",
    "        if (j != i):\n",
    "            r = P_0[j] - (P_0[i] + (Δt/2)*k_2)\n",
    "            a = a + (G*ms[j]/(np.linalg.norm(r)**3))*r\n",
    "    k_3 = v_0[i] + (Δt/2)*a\n",
    "\n",
    "    a = np.zeros(ND)\n",
    "    for j in range(N):\n",
    "        if (j != i):\n",
    "            r = P_0[j] - (P_0[i] + k_3*Δt)\n",
    "            a = a + (G*ms[j]/(np.linalg.norm(r)**3))*r\n",
    "    k_4 = v_0[i] + Δt*a\n",
    "\n",
    "\n",
    "    P_1[i] = P_0[i] + (1/6)*Δt*(k_1 + 2*k_2 + 2*k_3 + k_4)\n",
    "\n",
    "\n",
    "v_1 = np.zeros([N, ND])\n",
    "    \n",
    "for i in range(N):\n",
    "    #### Velocity ####\n",
    "\n",
    "    a = np.zeros(ND)\n",
    "    for j in range(N):\n",
    "        if (j != i):\n",
    "            r = P_0[j] - P_0[i]\n",
    "            a = a + (G*ms[j]/(np.linalg.norm(r)**3))*r\n",
    "    k_1 = a\n",
    "\n",
    "    a = np.zeros(ND)\n",
    "    for j in range(N):\n",
    "        if (j != i):\n",
    "            r = P_1[j] - P_1[i]\n",
    "            a = a + (G*ms[j]/(np.linalg.norm(r)**3))*r\n",
    "    k_2 = a\n",
    "\n",
    "\n",
    "    v_1[i] = v_0[i] + (1/2)*Δt*(k_1 + k_2)\n",
    "\n",
    "\n",
    "newbodies = bodies\n",
    "for i in range(N):\n",
    "    newbodies[i][1] = P_1[i]\n",
    "    newbodies[i][2] = v_1[i]\n",
    "\n",
    "print(newbodies[0][1])\n",
    "print(newbodies[0][2])\n",
    "print()\n",
    "print(newbodies[1][1])\n",
    "print(newbodies[1][2])"
   ]
  },
  {
   "cell_type": "code",
   "execution_count": 45,
   "id": "473de1a3-2e45-42ce-9fc2-874a8cab54a0",
   "metadata": {},
   "outputs": [
    {
     "data": {
      "text/plain": [
       "array([ 0. ,  0.1,  0.2,  0.3,  0.4,  0.5,  0.6,  0.7,  0.8,  0.9,  1. ,\n",
       "        1.1,  1.2,  1.3,  1.4,  1.5,  1.6,  1.7,  1.8,  1.9,  2. ,  2.1,\n",
       "        2.2,  2.3,  2.4,  2.5,  2.6,  2.7,  2.8,  2.9,  3. ,  3.1,  3.2,\n",
       "        3.3,  3.4,  3.5,  3.6,  3.7,  3.8,  3.9,  4. ,  4.1,  4.2,  4.3,\n",
       "        4.4,  4.5,  4.6,  4.7,  4.8,  4.9,  5. ,  5.1,  5.2,  5.3,  5.4,\n",
       "        5.5,  5.6,  5.7,  5.8,  5.9,  6. ,  6.1,  6.2,  6.3,  6.4,  6.5,\n",
       "        6.6,  6.7,  6.8,  6.9,  7. ,  7.1,  7.2,  7.3,  7.4,  7.5,  7.6,\n",
       "        7.7,  7.8,  7.9,  8. ,  8.1,  8.2,  8.3,  8.4,  8.5,  8.6,  8.7,\n",
       "        8.8,  8.9,  9. ,  9.1,  9.2,  9.3,  9.4,  9.5,  9.6,  9.7,  9.8,\n",
       "        9.9, 10. , 10.1, 10.2, 10.3, 10.4, 10.5, 10.6, 10.7, 10.8, 10.9,\n",
       "       11. , 11.1, 11.2, 11.3, 11.4, 11.5, 11.6, 11.7, 11.8, 11.9, 12. ,\n",
       "       12.1, 12.2, 12.3, 12.4, 12.5, 12.6, 12.7, 12.8, 12.9, 13. , 13.1,\n",
       "       13.2, 13.3, 13.4, 13.5, 13.6, 13.7, 13.8, 13.9, 14. , 14.1, 14.2,\n",
       "       14.3, 14.4, 14.5, 14.6, 14.7, 14.8, 14.9, 15. , 15.1, 15.2, 15.3,\n",
       "       15.4, 15.5, 15.6, 15.7, 15.8, 15.9, 16. , 16.1, 16.2, 16.3, 16.4,\n",
       "       16.5, 16.6, 16.7, 16.8, 16.9, 17. , 17.1, 17.2, 17.3, 17.4, 17.5,\n",
       "       17.6, 17.7, 17.8, 17.9, 18. , 18.1, 18.2, 18.3, 18.4, 18.5, 18.6,\n",
       "       18.7, 18.8, 18.9, 19. , 19.1, 19.2, 19.3, 19.4, 19.5, 19.6, 19.7,\n",
       "       19.8, 19.9, 20. ])"
      ]
     },
     "execution_count": 45,
     "metadata": {},
     "output_type": "execute_result"
    }
   ],
   "source": [
    "t_0 = 0\n",
    "t_1 = 20\n",
    "Δt = 0.1\n",
    "np.arange(t_0, t_1+Δt, Δt)"
   ]
  },
  {
   "cell_type": "code",
   "execution_count": 104,
   "id": "f6105d5e-00a7-4451-aee9-b1f8c286516f",
   "metadata": {},
   "outputs": [
    {
     "data": {
      "text/plain": [
       "array([0.  , 0.05, 0.1 , 0.15, 0.2 , 0.25, 0.3 , 0.35, 0.4 , 0.45, 0.5 ,\n",
       "       0.55, 0.6 , 0.65, 0.7 , 0.75, 0.8 , 0.85, 0.9 , 0.95])"
      ]
     },
     "execution_count": 104,
     "metadata": {},
     "output_type": "execute_result"
    }
   ],
   "source": [
    "np.arange(0, 1, 0.05)"
   ]
  },
  {
   "cell_type": "code",
   "execution_count": 107,
   "id": "a4ebd718-a67c-4263-9434-7ac43ad58ffb",
   "metadata": {},
   "outputs": [],
   "source": [
    "for i in np.arange(0, 0, 0.05):\n",
    "    print(i)\n"
   ]
  },
  {
   "cell_type": "code",
   "execution_count": null,
   "id": "947b016d-1ea3-4a06-8f07-9bf9538f8e86",
   "metadata": {},
   "outputs": [],
   "source": []
  }
 ],
 "metadata": {
  "kernelspec": {
   "display_name": "Python 3 (ipykernel)",
   "language": "python",
   "name": "python3"
  },
  "language_info": {
   "codemirror_mode": {
    "name": "ipython",
    "version": 3
   },
   "file_extension": ".py",
   "mimetype": "text/x-python",
   "name": "python",
   "nbconvert_exporter": "python",
   "pygments_lexer": "ipython3",
   "version": "3.8.8"
  }
 },
 "nbformat": 4,
 "nbformat_minor": 5
}
