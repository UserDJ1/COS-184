{
 "cells": [
  {
   "cell_type": "markdown",
   "metadata": {},
   "source": [
    "# DJ Pelletier\n",
    "### COS 184 fall 2020"
   ]
  },
  {
   "cell_type": "markdown",
   "metadata": {},
   "source": [
    "## Program 5: Casino games (20 points)"
   ]
  },
  {
   "cell_type": "markdown",
   "metadata": {},
   "source": [
    "This assignment is a continuation of Lab 6, where you defined two functions: <code>roll()</code> and <code>crapsRound()</code>. \n",
    "\n",
    "First, copy your function <code>crapsRound()</code> from Lab 7."
   ]
  },
  {
   "cell_type": "code",
   "execution_count": 1,
   "metadata": {},
   "outputs": [],
   "source": [
    "# Your code goes here to define the function crapsRound().\n",
    "\n",
    "def crapsRound():\n",
    "    rolls = []\n",
    "    \n",
    "    point = -1\n",
    "    \n",
    "    while (1):\n",
    "    \n",
    "        newRoll = roll()\n",
    "        rolls.append(newRoll)\n",
    "        \n",
    "        if (point == -1):\n",
    "            if (newRoll == 7 or newRoll == 11):\n",
    "                rolls.append(\"win\")\n",
    "                return rolls\n",
    "            elif (newRoll == 2 or newRoll == 3 or newRoll == 12):\n",
    "                rolls.append(\"lose\")\n",
    "                return rolls\n",
    "            else:\n",
    "                point = newRoll\n",
    "        elif (newRoll == point):\n",
    "            rolls.append(\"win\")\n",
    "            return rolls\n",
    "        elif (newRoll == 7):\n",
    "            rolls.append(\"lose\")\n",
    "            return rolls"
   ]
  },
  {
   "cell_type": "markdown",
   "metadata": {},
   "source": [
    "While you may have gotten <code>crapsRound</code> to pass the code check block, you haven't exactly tested it thoroughly. It's a fairly complex chunk of logic so we should test it, but there's no obvious way to force it to go through each of its possible cases. We don't want to modify the code for <code>crapsRound()</code> because that would mean that we're not debugging the thing we want to be debugging!\n",
    "\n",
    "What we're going to do is to define a function <code>makeRoll(rollList)</code> that returns a function(!). That function, when called, returns the next number from <code>rollList</code>. <code>makeRoll</code> returns a function that has no arguments and returns elements of <code>rollList</code>, one after the other. This kind of function is known as a <i>closure</i> (see https://en.wikipedia.org/wiki/Closure_(computer_programming))."
   ]
  },
  {
   "cell_type": "code",
   "execution_count": 2,
   "metadata": {},
   "outputs": [],
   "source": [
    "# Don't change this cell.\n",
    "# Here's the definition of makeRoll, a function that returns a function that, when called, returns elements of a list.\n",
    "def makeRoll(rollList):\n",
    "    i = 0  # this is the index of the element of rollList to return. elem() modifies this.\n",
    "    def elem():\n",
    "        nonlocal i  # use the i above.\n",
    "        r = rollList[i]\n",
    "        i += 1\n",
    "        return r\n",
    "    return elem"
   ]
  },
  {
   "cell_type": "markdown",
   "metadata": {},
   "source": [
    "In use, create a list of outcomes of a roll of the dice that you want (make sure that the list reflects either a win or a loss), use <code>makeRoll(rollList)</code> to create a function, and assign that function to <code>roll()</code>. This will let you see whether <code>crapsRound()</code> is handling all of its cases correctly."
   ]
  },
  {
   "cell_type": "code",
   "execution_count": 3,
   "metadata": {},
   "outputs": [],
   "source": [
    "# Code check block. Examples of use follows.\n",
    "roll = makeRoll([5,12,6,4,5])  # your point is 5\n",
    "assert crapsRound()[-1] == 'win'\n",
    "roll = makeRoll([7])  # lucky seven\n",
    "assert crapsRound()[-1] == 'win'"
   ]
  },
  {
   "cell_type": "markdown",
   "metadata": {},
   "source": [
    "OK - now <u>you</u> make a code check block that runs <code>crapsRound()</code> through all of its cases and checks to see if it handles them correctly. Use the example in the code check block to show how to do this."
   ]
  },
  {
   "cell_type": "code",
   "execution_count": 8,
   "metadata": {},
   "outputs": [],
   "source": [
    "# Your code goes here to thoroughly check crapsRound() using makeRoll() and assert.\n",
    "roll = makeRoll([11])\n",
    "assert crapsRound()[-1] == 'win'\n",
    "roll = makeRoll([2])\n",
    "assert crapsRound()[-1] == 'lose'\n",
    "roll = makeRoll([3])\n",
    "assert crapsRound()[-1] == 'lose'\n",
    "roll = makeRoll([12])\n",
    "assert crapsRound()[-1] == 'lose'\n",
    "roll = makeRoll([4, 5, 6, 7])\n",
    "assert crapsRound()[-1] == 'lose'"
   ]
  },
  {
   "cell_type": "markdown",
   "metadata": {},
   "source": [
    "OK -- we're satisfied that <code>crapsRound</code> is working correctly. Now copy your definition of <code>roll()</code> from Lab 6 into the following cell."
   ]
  },
  {
   "cell_type": "code",
   "execution_count": 9,
   "metadata": {},
   "outputs": [],
   "source": [
    "# Your code goes here to re-define the function roll() to be what you used in Lab 6. Don't forget to import randint.\n",
    "\n",
    "import random\n",
    "\n",
    "def roll():\n",
    "    a = random.randint(1, 6)\n",
    "    b = random.randint(1, 6)\n",
    "    \n",
    "    return a+b"
   ]
  },
  {
   "cell_type": "markdown",
   "metadata": {},
   "source": [
    "Run <code>crapsRound()</code> twenty times and visually verify that it is working OK."
   ]
  },
  {
   "cell_type": "code",
   "execution_count": 23,
   "metadata": {},
   "outputs": [
    {
     "name": "stdout",
     "output_type": "stream",
     "text": [
      "[8, 8]  win\n",
      "[3]  lose\n",
      "[4, 7]  lose\n",
      "[5, 7]  lose\n",
      "[10, 8, 6, 8, 5, 7]  lose\n",
      "[8, 9, 7]  lose\n",
      "[3]  lose\n",
      "[5, 5]  win\n",
      "[9, 7]  lose\n",
      "[5, 6, 4, 11, 5]  win\n",
      "[10, 7]  lose\n",
      "[6, 6]  win\n",
      "[6, 8, 8, 10, 3, 6]  win\n",
      "[9, 10, 7]  lose\n",
      "[7]  win\n",
      "[5, 4, 8, 6, 7]  lose\n",
      "[8, 11, 9, 6, 9, 7]  lose\n",
      "[6, 7]  lose\n",
      "[5, 3, 11, 8, 2, 5]  win\n",
      "[11]  win\n"
     ]
    }
   ],
   "source": [
    "# Your code goes here to run crapsRound() twenty times and print its result.\n",
    "\n",
    "for i in range(20):\n",
    "    a = crapsRound()\n",
    "    print(str(a[0:-1]) + \"  \" + str(a[-1]))"
   ]
  },
  {
   "cell_type": "markdown",
   "metadata": {},
   "source": [
    "Let's figure out the odds that the house will win (the odds that you will lose). Run <code>crapsRound()</code> a large number of times (say 100,000) and tabulate how many times you lose. The odds that the house will win will be that number divided by the number of rounds. Print these odds as a percentage. The \"house edge\" is that percentage minus 50%."
   ]
  },
  {
   "cell_type": "code",
   "execution_count": 61,
   "metadata": {},
   "outputs": [
    {
     "name": "stdout",
     "output_type": "stream",
     "text": [
      "Win rate: 49.336%\n",
      "Loss rate: 50.664%\n",
      "House edge: 0.664%\n"
     ]
    }
   ],
   "source": [
    "# Your code goes here to run crapsRound() many times, count losses, and compute the house edge.\n",
    "\n",
    "wins = 0\n",
    "losses = 0\n",
    "\n",
    "for i in range(100000):\n",
    "    a = crapsRound()\n",
    "    if (a[-1] == 'win'):\n",
    "        wins += 1\n",
    "    else:\n",
    "        losses += 1\n",
    "\n",
    "print(\"Win rate: \" + str(100*wins/100000) + \"%\")\n",
    "print(\"Loss rate: \" + str(100*losses/100000) + \"%\")\n",
    "\n",
    "print(\"House edge: \" + str(round(100*losses/100000 - 50, 3)) + \"%\")"
   ]
  },
  {
   "cell_type": "markdown",
   "metadata": {},
   "source": [
    "## Extra credit (5 points)"
   ]
  },
  {
   "cell_type": "markdown",
   "metadata": {},
   "source": [
    "You are a gambler. You make ten visits to the casino and each time you play 100 rounds of craps. You keep track of each visit in a list. Print the list. Did you win more times than you lost?  "
   ]
  },
  {
   "cell_type": "code",
   "execution_count": 82,
   "metadata": {},
   "outputs": [
    {
     "name": "stdout",
     "output_type": "stream",
     "text": [
      "[-1, 1, -1, 1, 1, -1, -1, -1, 1, -1]\n",
      "-2\n"
     ]
    }
   ],
   "source": [
    "# Simulate 10 visits of 100 rounds each, tabulating only whether you won more often than you lost on each visit.\n",
    "\n",
    "visits = []\n",
    "\n",
    "for i in range(10):\n",
    "    visits.append(0)\n",
    "    for j in range(100):\n",
    "        a = crapsRound()\n",
    "        if (a[-1] == 'win'):\n",
    "            visits[i] += 1\n",
    "        else:\n",
    "            visits[i] += -1\n",
    "    \n",
    "    if (visits[i] > 0):\n",
    "        visits[i] = 1\n",
    "    elif (visits[i] == 0):\n",
    "        visits[i] = 0\n",
    "    else:\n",
    "        visits[i] = -1\n",
    "\n",
    "print(visits)\n",
    "\n",
    "n = 0\n",
    "for i in visits:\n",
    "    n += i\n",
    "\n",
    "print(n)\n",
    "\n",
    "# Are you running ahead, breaking even or losing?\n",
    "### Losing"
   ]
  },
  {
   "cell_type": "markdown",
   "metadata": {},
   "source": [
    "#### No"
   ]
  },
  {
   "cell_type": "code",
   "execution_count": null,
   "metadata": {},
   "outputs": [],
   "source": []
  }
 ],
 "metadata": {
  "kernelspec": {
   "display_name": "Python 3 (ipykernel)",
   "language": "python",
   "name": "python3"
  },
  "language_info": {
   "codemirror_mode": {
    "name": "ipython",
    "version": 3
   },
   "file_extension": ".py",
   "mimetype": "text/x-python",
   "name": "python",
   "nbconvert_exporter": "python",
   "pygments_lexer": "ipython3",
   "version": "3.8.8"
  }
 },
 "nbformat": 4,
 "nbformat_minor": 4
}
