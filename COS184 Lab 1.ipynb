{
 "cells": [
  {
   "cell_type": "markdown",
   "metadata": {},
   "source": [
    "# DJ Pelletier\n",
    "### COS 184 fall 2020"
   ]
  },
  {
   "cell_type": "markdown",
   "metadata": {},
   "source": [
    "## Lab 1: Jupyter Notebooks (15 points)"
   ]
  },
  {
   "cell_type": "markdown",
   "metadata": {},
   "source": [
    "This assignment is about getting you started with Python and Jupyter Notebooks.\n",
    "\n",
    "Jupyter Notebooks are a vertical pile of cells. Cells are either \"Markdown\" or \"Code\" (there are two other types, but we can ignore them for now). You can run cells, one at a time, by clicking on them and then running them with <code>Cell->Run Cells</code> or clicking on the \"Run\" button -- it's just to the left of the black square on the toolbar above. You can run either Markdown or Code cells, but running Code cells is more exciting. You can edit the contents of a Markdown cell by double-clicking on it. To see what a Markdown cell looks like, run it. You can edit the contents of a Code cell by clicking in it.\n",
    "\n",
    "First, there is a cell just below this sentence (click on it to see it). It's a Markdown cell. Double-click on it and edit it so that it says who you are and why you took this course."
   ]
  },
  {
   "cell_type": "markdown",
   "metadata": {},
   "source": [
    "My name is DJ Pelletier, and I am taking this class because it is the next course in my Computer Science curriculum and I would like an excuse to exercize my understanding of Python."
   ]
  },
  {
   "cell_type": "markdown",
   "metadata": {},
   "source": [
    "Now, fill in the cell below so that when it is run (it is a Code cell) it outputs \"Hello, World!\" (without the quotes). "
   ]
  },
  {
   "cell_type": "code",
   "execution_count": null,
   "metadata": {},
   "outputs": [],
   "source": [
    "# Your code (to print \"Hello, World!\") goes here. It's a one-liner.\n",
    "\n",
    "print(\"Hello, World!\")"
   ]
  },
  {
   "cell_type": "markdown",
   "metadata": {},
   "source": [
    "Now we're going to play with the <code>hello()</code> function from Zelle, page 10 (page 11 in the 3rd edition). It's in the cell below. Run it and the cell beneath it (that cell calls <code>hello()</code> to see if it works. <u>Now break it by editing it</u> so that the first <code>print</code> is changed to <code>primt</code>. Run it again and see what happens. Ugly, no? Restart the kernel (<code>Kernel->Restart and Clear Output</code>) to get a good, clean Notebook. <u>Now edit it again to fix the definition of <code>hello()</code></u> and run it again."
   ]
  },
  {
   "cell_type": "code",
   "execution_count": 1,
   "metadata": {},
   "outputs": [],
   "source": [
    "def hello():\n",
    "    print(\"Hello\")\n",
    "    print(\"Computers are fun!\")"
   ]
  },
  {
   "cell_type": "code",
   "execution_count": 2,
   "metadata": {},
   "outputs": [
    {
     "name": "stdout",
     "output_type": "stream",
     "text": [
      "Hello\n",
      "Computers are fun!\n"
     ]
    }
   ],
   "source": [
    "# Don't change this cell.\n",
    "hello()  # should print a bunch of stuff"
   ]
  },
  {
   "cell_type": "markdown",
   "metadata": {},
   "source": [
    "Now go nuts. In the next cell, define a new function <code>nuts()</code> that prints anything you want (within reason and the bounds of propriety). If you are so inclined, take a look at https://en.wikipedia.org/wiki/ASCII_art -- you may have found a new hobby!"
   ]
  },
  {
   "cell_type": "code",
   "execution_count": 3,
   "metadata": {},
   "outputs": [],
   "source": [
    "# Your code defining the function nuts() goes here. You might want to copy the code for hello()\n",
    "# and edit it, rather than starting from scratch.\n",
    "\n",
    "def nuts():\n",
    "    print(\"¯\\\\_(ツ)_/¯\")"
   ]
  },
  {
   "cell_type": "code",
   "execution_count": 4,
   "metadata": {},
   "outputs": [
    {
     "name": "stdout",
     "output_type": "stream",
     "text": [
      "¯\\_(ツ)_/¯\n"
     ]
    }
   ],
   "source": [
    "# Don't change this cell.\n",
    "nuts()  # should print a bunch of interesting stuff."
   ]
  },
  {
   "cell_type": "markdown",
   "metadata": {},
   "source": [
    "### Extra credit (5 points)\n",
    "The cell below contains the function <code>greet()</code> from Zelle page 11. This function has a <i>parameter,</i> a name whose value is set when the function is called. Edit <code>greet</code> to define your own version of it and then call it a few times with different arguments -- values for the parameter(s) -- to see what happens. You might even want to try adding a second parameter to greet and using it in some interesting way."
   ]
  },
  {
   "cell_type": "code",
   "execution_count": 6,
   "metadata": {},
   "outputs": [],
   "source": [
    "# You can change this cell if you want, to redefine greet().\n",
    "def greet(person):\n",
    "    print(person[0] + \" \" + str(person[1]))"
   ]
  },
  {
   "cell_type": "code",
   "execution_count": 12,
   "metadata": {},
   "outputs": [
    {
     "name": "stdout",
     "output_type": "stream",
     "text": [
      "Make it so, Number 1\n"
     ]
    }
   ],
   "source": [
    "# Your code to call greet() with different arguments goes here.\n",
    "\n",
    "person = [\"Make it so, Number\", 1]\n",
    "greet(person)"
   ]
  },
  {
   "cell_type": "code",
   "execution_count": null,
   "metadata": {},
   "outputs": [],
   "source": []
  }
 ],
 "metadata": {
  "kernelspec": {
   "display_name": "Python 3 (ipykernel)",
   "language": "python",
   "name": "python3"
  },
  "language_info": {
   "codemirror_mode": {
    "name": "ipython",
    "version": 3
   },
   "file_extension": ".py",
   "mimetype": "text/x-python",
   "name": "python",
   "nbconvert_exporter": "python",
   "pygments_lexer": "ipython3",
   "version": "3.8.8"
  }
 },
 "nbformat": 4,
 "nbformat_minor": 4
}
