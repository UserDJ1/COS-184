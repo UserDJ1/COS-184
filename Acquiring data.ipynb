{
 "cells": [
  {
   "cell_type": "markdown",
   "metadata": {},
   "source": [
    "# DJ Pelletier\n",
    "### COS 184 fall 2020"
   ]
  },
  {
   "cell_type": "markdown",
   "metadata": {},
   "source": [
    "## Lab 7: Acquiring data (15 points)"
   ]
  },
  {
   "cell_type": "markdown",
   "metadata": {},
   "source": [
    "This assignment is about selectively reading data from a file into a <code>numpy ndarray</code> and doing some interesting things with it.\n",
    "\n",
    "The file <code>'Maine_Population_1960-2010_by_Counties.csv'</code> contains information about the total population of each county in Maine in the years 1960, 1970, 1980, 1990, 2000 and 2010. The first line of the file, which we will ignore, contains column labels:\n",
    "\n",
    "<code>County,\"Total Population, 1960\",\"Total Population, 1970\",\"Total Population, 1980\",\"Total Population, 1990\",\"Total Population, 2000\",\"Total Population, 2010\",Location</code>\n",
    "\n",
    "The second and subsequent lines contain the county name, the population data and the latitude and longitude:\n",
    "\n",
    "<code>\"Androscoggin County, Maine\",86312,91279,99509,105259,103793,107702,\"(44.1970089, -70.2376963)\"</code>\n",
    "\n",
    "For our purposes, we need an array of populations. Each row will correspond to a county; each column to a year. We don't need the location data at all. We also need a list of just the county names (e.g., <code>'Androscoggin'</code>). First, let's read the file and make the list of county names <code>counties</code>. You can do this with Python text file reading, as we have used before, or with <code>numpy</code>'s <code>genfromtxt()</code> to get an <code>ndarray</code>."
   ]
  },
  {
   "cell_type": "code",
   "execution_count": 21,
   "metadata": {},
   "outputs": [
    {
     "name": "stdout",
     "output_type": "stream",
     "text": [
      "['Androscoggin', 'Aroostook', 'Cumberland', 'Franklin', 'Hancock', 'Kennebec', 'Knox', 'Lincoln', 'Oxford', 'Penobscot', 'Piscataquis', 'Sagadahoc', 'Somerset', 'Waldo', 'Washington', 'York']\n"
     ]
    }
   ],
   "source": [
    "import numpy as np\n",
    "# Your code to read the file and create the counties list (or ndarray) goes here. If you're working in Python, drop\n",
    "# the leading \", split the line on the first blank and append to counties. If you're working in numpy, be sure to use\n",
    "# a converter for the first column.\n",
    "\n",
    "counties = []\n",
    "\n",
    "with open(\"Maine_Population_1960-2010_by_Counties.csv\", \"r\") as f:\n",
    "    for line in f:\n",
    "        currentline = line.split(\",\")\n",
    "        if (currentline[0] != \"County\"):\n",
    "            counties.append(currentline[0][1:-7])\n",
    "\n",
    "print(counties)"
   ]
  },
  {
   "cell_type": "code",
   "execution_count": 22,
   "metadata": {},
   "outputs": [],
   "source": [
    "# Code check block.\n",
    "assert len(counties) == 16\n",
    "assert counties[-1] == 'York'"
   ]
  },
  {
   "cell_type": "markdown",
   "metadata": {},
   "source": [
    "Now we're going to read the file again, this time to create the <code>ndarray populations</code>. Now we're definitely going to use the <code>numpy</code> function <code>genfromtxt()</code>. The detailed descripion of this function is at https://docs.scipy.org/doc/numpy/reference/generated/numpy.genfromtxt.html#numpy.genfromtxt. \n",
    "<ul>\n",
    "   <li>We have to ignore the first line of the file, so you'll want to set the <code>skip_header</code> argument to 1.    <li>We want the datatype of values in the array to be <code>'int32'</code> rather than the default.\n",
    "   <li>We want the delimiter to be <code>','</code>.\n",
    "   <li>We want to read only columns 1-6, ignoring the first (the county) and last (the location). (Hack) Because of the comma in the county name, it counts as two columns, so only include columns 2-7.\n",
    "</ul>"
   ]
  },
  {
   "cell_type": "code",
   "execution_count": 32,
   "metadata": {},
   "outputs": [
    {
     "name": "stdout",
     "output_type": "stream",
     "text": [
      "[[ 86312  91279  99509 105259 103793 107702]\n",
      " [106064  94078  91344  86936  73938  71870]\n",
      " [182751 192528 215789 243135 265612 281674]\n",
      " [ 20069  22444  27447  29008  29467  30768]\n",
      " [ 32293  34590  41781  46948  51791  54418]\n",
      " [ 89150  95306 109889 115904 117114 122151]\n",
      " [ 28575  29013  32941  36310  39618  39736]\n",
      " [ 18497  20537  25691  30357  33616  34457]\n",
      " [ 44345  43457  49043  52602  54755  57833]\n",
      " [126346 125393 137015 146601 144919 153923]\n",
      " [ 17379  16285  17634  18653  17235  17535]\n",
      " [ 22793  23452  28795  33535  35214  35293]\n",
      " [ 39749  40597  45049  49767  50888  52228]\n",
      " [ 22632  23328  28414  33018  36280  38786]\n",
      " [ 32908  29859  34963  35308  33941  32856]\n",
      " [ 99402 111576 139739 164587 186742 197131]]\n"
     ]
    }
   ],
   "source": [
    "import numpy as np\n",
    "# Your code to create the new ndarray populations goes here.\n",
    "\n",
    "populations = np.genfromtxt(\"Maine_Population_1960-2010_by_Counties.csv\", dtype='int32', delimiter=',', skip_header=1, usecols=range(2,8))\n",
    "\n",
    "print(populations)"
   ]
  },
  {
   "cell_type": "code",
   "execution_count": 33,
   "metadata": {},
   "outputs": [],
   "source": [
    "# Code check block.\n",
    "assert populations.shape == (16, 6)\n",
    "assert populations.dtype == 'int32'\n",
    "assert populations[15,5] == 197131"
   ]
  },
  {
   "cell_type": "markdown",
   "metadata": {},
   "source": [
    "What counties grew in population from 1960 to 2010? What counties lost? You can do this by comparing the population in each county in 2010 with that in 1960. If the difference is positive then that county is a gainer; otherwise it's a loser. Note that <code>counties[i]</code> is the name of the county for <code>populations[i]</code>."
   ]
  },
  {
   "cell_type": "code",
   "execution_count": 39,
   "metadata": {},
   "outputs": [
    {
     "name": "stdout",
     "output_type": "stream",
     "text": [
      "Gainers: ['Androscoggin', 'Cumberland', 'Franklin', 'Hancock', 'Kennebec', 'Knox', 'Lincoln', 'Oxford', 'Penobscot', 'Piscataquis', 'Sagadahoc', 'Somerset', 'Waldo', 'York']\n",
      "Losers: ['Aroostook', 'Washington']\n"
     ]
    }
   ],
   "source": [
    "# Your code to add counties to either the gainers list or the losers list goes here.\n",
    "\n",
    "gainers = []\n",
    "losers = []\n",
    "\n",
    "for i in range(len(populations)):\n",
    "    if (populations[i][-1] - populations[i][0] >= 0):\n",
    "        gainers.append(counties[i])\n",
    "    else:\n",
    "        losers.append(counties[i])\n",
    "\n",
    "# Print the gainers and losers, by county name.\n",
    "\n",
    "print(\"Gainers: \" + str(gainers))\n",
    "print(\"Losers: \" + str(losers))"
   ]
  },
  {
   "cell_type": "markdown",
   "metadata": {},
   "source": [
    "What else can we do with this data? The cell below plots the total population of Maine by decade."
   ]
  },
  {
   "cell_type": "code",
   "execution_count": 42,
   "metadata": {},
   "outputs": [
    {
     "data": {
      "image/png": "[encoded data removed]",
      "text/plain": [
       "<Figure size 432x288 with 1 Axes>"
      ]
     },
     "metadata": {
      "needs_background": "light"
     },
     "output_type": "display_data"
    }
   ],
   "source": [
    "# Don't change this cell.\n",
    "import pylab as pl\n",
    "%matplotlib inline\n",
    "pl.title('Maine population by decade')\n",
    "pops = [t.sum() for t in populations.T]  # sum of each column\n",
    "pl.bar(list(range(1960,2020,10)),  # the x axis, from 1950 to 2020\n",
    "       pops,                       # the population data\n",
    "       width=5,                    # wider bars (default=0.8)\n",
    "       color='k',                  # black bars\n",
    "       align='center',             # center bar on tick mark\n",
    "       # only label years 1960-2010\n",
    "       tick_label=[str(t) for t in range(1960,2020,10)]\n",
    "      )\n",
    "# the following suppresses automatic output of the last value in a cell.\n",
    "pass ### As does a semicolon!"
   ]
  },
  {
   "cell_type": "code",
   "execution_count": null,
   "metadata": {},
   "outputs": [],
   "source": []
  }
 ],
 "metadata": {
  "kernelspec": {
   "display_name": "Python 3 (ipykernel)",
   "language": "python",
   "name": "python3"
  },
  "language_info": {
   "codemirror_mode": {
    "name": "ipython",
    "version": 3
   },
   "file_extension": ".py",
   "mimetype": "text/x-python",
   "name": "python",
   "nbconvert_exporter": "python",
   "pygments_lexer": "ipython3",
   "version": "3.8.8"
  }
 },
 "nbformat": 4,
 "nbformat_minor": 4
}
