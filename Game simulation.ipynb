{
 "cells": [
  {
   "cell_type": "markdown",
   "metadata": {},
   "source": [
    "# DJ Pelletier\n",
    "### COS 184 fall 2020"
   ]
  },
  {
   "cell_type": "markdown",
   "metadata": {},
   "source": [
    "## Lab 6: Game simulation (15 points)"
   ]
  },
  {
   "cell_type": "markdown",
   "metadata": {},
   "source": [
    "This assignment is intended to let you hone your core Python skills: iteration, conditional execution, functions, randomness and lists and dictionaries.\n",
    "\n",
    "The dice game known as \"craps\" is played with two 6-sided dice. Each die (that's the singular of \"dice\") has its faces marked with from one to six dots. The die is designed to be rolled by a player and to be \"fair:\" the likelihood of each face to show after a roll is the same (1/6). \n",
    "\n",
    "Craps begins with a roll of two dice. The players then note the sum of the show faces (for a full list of slang terms, see http://www.readybetgo.com/craps/strategy/craps-lingo-1423.html. There may be subsequent rolls. Betting is very important in this game, although we will not model betting. The rules of the game are:\n",
    "<ol>\n",
    "<li>If on the first roll you get a sum of 7 (\"Big Red\") or 11 (\"yo-leven\") you win. This is called \"rolling a natural.\"\n",
    "<li>If on the first roll you get a sum of 2 (\"snake eyes\"), 3 (\"ace deuce\") or 12 (\"boxcars\") you lose. This is called \"crapping out.\"\n",
    "<li>Otherwise the sum of the two dice on the first roll is called your \"point\".\n",
    "<li>You now roll repeatedly until you get a sum that equals the point, in which case you win. But if, on any roll, you get a sum of 7,  you lose. This is called \"seven out.\"\n",
    "</ol>\n",
    "\n",
    "As in most casino games, if you are playing against the house, you will be at a slight disadvantage. \n",
    "\n",
    "Let's begin our simulation of craps by defining a function <code>roll()</code> which takes no arguments and returns an <code>int</code> containing the sum of the number of dots on the show faces of two dice. You will find <code>random.randint()</code> invaluable. <u>Don't make the mistake of choosing a random number between 2 and 12, inclusive! The probabilities of the sums of two dice are not equal!</u>"
   ]
  },
  {
   "cell_type": "code",
   "execution_count": 17,
   "metadata": {},
   "outputs": [],
   "source": [
    "# Your code goes here to define the function roll().\n",
    "\n",
    "import random\n",
    "\n",
    "def roll():\n",
    "    a = random.randint(1, 6)\n",
    "    b = random.randint(1, 6)\n",
    "    \n",
    "    return a+b"
   ]
  },
  {
   "cell_type": "code",
   "execution_count": 18,
   "metadata": {},
   "outputs": [],
   "source": [
    "# Code check block.\n",
    "_ = roll()\n",
    "assert (2 <= _ <= 12)"
   ]
  },
  {
   "cell_type": "markdown",
   "metadata": {},
   "source": [
    "Now let's define a function <code>crapsRound()</code> that returns the rolls of a dice game as a list. Each element of the list is the sum of a roll. If the last roll in the list results in either a win or a loss, the list will have either <code>'win'</code> or <code>'lose'</code> tacked on to its end. <code>crapsRound()</code> simulates one craps game according to the rules stated above. For example, suppose that on the first roll the result is 2 - you rolled snake-eyes and lost. <code>crapsRound()</code> will return the list <code>[2,'lose']</code>. In a second example, you rolled 9 and then 4 and then 9. <code>crapsRound()</code> will return the list <code>[9,4,9,'win']</code>. "
   ]
  },
  {
   "cell_type": "code",
   "execution_count": 25,
   "metadata": {},
   "outputs": [],
   "source": [
    "# Your code goes here to define the function crapsRound() as described above.\n",
    "\n",
    "def crapsRound():\n",
    "    rolls = []\n",
    "    \n",
    "    point = -1\n",
    "    \n",
    "    while (1):\n",
    "    \n",
    "        newRoll = roll()\n",
    "        rolls.append(newRoll)\n",
    "        \n",
    "        if (point == -1):\n",
    "            if (newRoll == 7 or newRoll == 11):\n",
    "                rolls.append(\"win\")\n",
    "                return rolls\n",
    "            elif (newRoll == 2 or newRoll == 3 or newRoll == 12):\n",
    "                rolls.append(\"lose\")\n",
    "                return rolls\n",
    "            else:\n",
    "                point = newRoll\n",
    "        elif (newRoll == point):\n",
    "            rolls.append(\"win\")\n",
    "            return rolls\n",
    "        elif (newRoll == 7):\n",
    "            rolls.append(\"lose\")\n",
    "            return rolls"
   ]
  },
  {
   "cell_type": "code",
   "execution_count": 38,
   "metadata": {},
   "outputs": [
    {
     "name": "stdout",
     "output_type": "stream",
     "text": [
      "[5, 4, 8, 10, 4, 12, 11, 9, 10, 10, 8, 5, 'win']\n"
     ]
    }
   ],
   "source": [
    "print(crapsRound())\n",
    "# Code check block - don't change what follows.\n",
    "_ = crapsRound()\n",
    "assert _[-1] == 'win' or _[-1] == 'lose'\n",
    "assert (2 <= _[0] <= 12)"
   ]
  },
  {
   "cell_type": "code",
   "execution_count": null,
   "metadata": {},
   "outputs": [],
   "source": []
  }
 ],
 "metadata": {
  "kernelspec": {
   "display_name": "Python 3 (ipykernel)",
   "language": "python",
   "name": "python3"
  },
  "language_info": {
   "codemirror_mode": {
    "name": "ipython",
    "version": 3
   },
   "file_extension": ".py",
   "mimetype": "text/x-python",
   "name": "python",
   "nbconvert_exporter": "python",
   "pygments_lexer": "ipython3",
   "version": "3.8.8"
  }
 },
 "nbformat": 4,
 "nbformat_minor": 4
}
