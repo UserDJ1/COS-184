{
 "cells": [
  {
   "cell_type": "markdown",
   "metadata": {},
   "source": [
    "# Edit to show Your Name\n",
    "### COS 184 fall 2020"
   ]
  },
  {
   "cell_type": "markdown",
   "metadata": {},
   "source": [
    "## Program 7: Births data visualized (20 points)"
   ]
  },
  {
   "cell_type": "markdown",
   "metadata": {},
   "source": [
    "This assignment gets us into some visualization of actual data. Lab 8 and Program 6 have already paved the way by saving a nice clean reduced <code>DataFrame</code>. Program 6 saved the reduced data as a pickled <code>DataFrame</code> so we can just read it in (\"un-pickle it\") and get going."
   ]
  },
  {
   "cell_type": "code",
   "execution_count": 1,
   "metadata": {},
   "outputs": [],
   "source": [
    "# Don't change this cell.\n",
    "import pandas as pd, numpy as np\n",
    "import pylab as pl\n",
    "DataIn = 'Births2006reduced.pkl'"
   ]
  },
  {
   "cell_type": "code",
   "execution_count": 3,
   "metadata": {},
   "outputs": [],
   "source": [
    "# Your code goes here, to read the pickled DataFrame and un-pickle it on the way. Name the result births.\n",
    "\n",
    "births = pd.read_pickle(DataIn)"
   ]
  },
  {
   "cell_type": "markdown",
   "metadata": {},
   "source": [
    "Now's the time to start asking questions that we can use the data to answer. The best way to do a study like this is to start with the questions first and then choose the data in response to them, but we have done this the other way around. Let's list some questions that might have interesting answers. Please feel free to add to, or substitute for entries in this list, as long as the questions can be answered from the data in the columns we have of <code>births</code>.\n",
    "<ol>\n",
    "<li>What proportion of births have different periods of gestation?\n",
    "<li>Is there an optimum birth weight for a healthy baby?\n",
    "</ol>"
   ]
  },
  {
   "cell_type": "markdown",
   "metadata": {},
   "source": [
    "The question regarding gestation is really a question about the <i>distribution</i> of gestations. Let's begin by forming an histogram of estimated gestations -- use the DataFrame method <code>hist()</code>. You can find a description of this method at https://pandas.pydata.org/pandas-docs/stable/reference/api/pandas.DataFrame.hist.html."
   ]
  },
  {
   "cell_type": "code",
   "execution_count": 12,
   "metadata": {},
   "outputs": [
    {
     "data": {
      "text/plain": [
       "<AxesSubplot:>"
      ]
     },
     "execution_count": 12,
     "metadata": {},
     "output_type": "execute_result"
    },
    {
     "data": {
      "image/png": "[encoded data removed]",
      "text/plain": [
       "<Figure size 432x288 with 1 Axes>"
      ]
     },
     "metadata": {
      "needs_background": "light"
     },
     "output_type": "display_data"
    }
   ],
   "source": [
    "%matplotlib inline\n",
    "# Your code goes here to histogram the ESTGEST column. Try 92 bins.\n",
    "\n",
    "births[\"ESTGEST\"].hist(bins=40)"
   ]
  },
  {
   "cell_type": "code",
   "execution_count": 14,
   "metadata": {},
   "outputs": [
    {
     "name": "stdout",
     "output_type": "stream",
     "text": [
      "12.0\n",
      "51.0\n"
     ]
    }
   ],
   "source": [
    "print(births[\"ESTGEST\"].min())\n",
    "print(births[\"ESTGEST\"].max())"
   ]
  },
  {
   "cell_type": "markdown",
   "metadata": {},
   "source": [
    "A piechart would answer the question better for those who think visually, but piecharts require that we <i>categorize</i> the data. Inspect the histogram and select 4-6 ranges of gestation periods. Then count how many gestations fall in each range. Select the ranges so that they completely cover all possible gestations, and if any one range has too many births, make it a bit smaller (and the adjoining range a bit bigger)."
   ]
  },
  {
   "cell_type": "code",
   "execution_count": 66,
   "metadata": {},
   "outputs": [
    {
     "name": "stdout",
     "output_type": "stream",
     "text": [
      "[3987, 253640, 110356]\n"
     ]
    }
   ],
   "source": [
    "counts = []  # counts in each range (needed for the pie chart).\n",
    "# Your code goes here to compute a list of counts. First create a Boolean index that is True\n",
    "# if the value in the ESTGEST column is between a and b, inclusive:\n",
    "#    boolcol = (births.ESTGEST >= a) & (births.ESTGEST <= b)\n",
    "# Now use that index to create a reduced DataFrame, and count its rows:\n",
    "#    k = births.ESTGEST[boolcol].count()  \n",
    "# Now do this for each range and put the result in counts.\n",
    "\n",
    "for i in range(3):\n",
    "    if (i == 0):\n",
    "        a = 10\n",
    "        b = 30\n",
    "    elif (i == 1):\n",
    "        a = 30\n",
    "        b = 40\n",
    "    else:\n",
    "        a = 40\n",
    "        b = 60\n",
    "    \n",
    "    boolcol = (births[\"ESTGEST\"] >= a) & (births[\"ESTGEST\"] < b)\n",
    "    \n",
    "    counts.append(births[\"ESTGEST\"][boolcol].count())\n",
    "    \n",
    "print(counts)"
   ]
  },
  {
   "cell_type": "markdown",
   "metadata": {},
   "source": [
    "Now we can use <code>counts</code> to form a pie chart."
   ]
  },
  {
   "cell_type": "code",
   "execution_count": 67,
   "metadata": {},
   "outputs": [
    {
     "data": {
      "image/png": "[encoded data removed]",
      "text/plain": [
       "<Figure size 720x504 with 1 Axes>"
      ]
     },
     "metadata": {},
     "output_type": "display_data"
    }
   ],
   "source": [
    "# Your code goes here to make a pie chart of the list of counts.\n",
    "\n",
    "import matplotlib.pyplot as plt\n",
    "\n",
    "labels=[\"10-30\",\"30-40\",\"40-60\"]\n",
    "\n",
    "fig = plt.figure(figsize =(10, 7))\n",
    "patches, text = plt.pie(counts)\n",
    "\n",
    "plt.legend(patches, labels, loc='upper left', bbox_to_anchor=(-0.1, 1.),\n",
    "           fontsize=8)\n",
    "\n",
    "for autotext in autotexts:\n",
    "    autotext.set_color('white')\n",
    "\n",
    "plt.show()"
   ]
  },
  {
   "cell_type": "markdown",
   "metadata": {},
   "source": [
    "The second question, \"Is there an optimum birth weight for a healthy baby?\" can be cast as a plot of the  <code>APGAR5</code> score vs. birth weight <code>DBWT</code>. This time, even though there are many data points, we blithely create a scatter plot."
   ]
  },
  {
   "cell_type": "code",
   "execution_count": 77,
   "metadata": {},
   "outputs": [
    {
     "data": {
      "text/plain": [
       "<matplotlib.collections.PathCollection at 0x1de4611c550>"
      ]
     },
     "execution_count": 77,
     "metadata": {},
     "output_type": "execute_result"
    },
    {
     "data": {
      "image/png": "[encoded data removed]",
      "text/plain": [
       "<Figure size 432x288 with 1 Axes>"
      ]
     },
     "metadata": {
      "needs_background": "light"
     },
     "output_type": "display_data"
    }
   ],
   "source": [
    "weight = births.DBWT\n",
    "health = births.APGAR5\n",
    "# Your code goes here to show a scatter plot of weight vs health.\n",
    "\n",
    "plt.scatter(weight, health, marker='.')"
   ]
  },
  {
   "cell_type": "markdown",
   "metadata": {},
   "source": [
    "What this plot suggests is that the healthiest babies have a fairly wide range of weights, including some pretty low ones (but not the lowest) and some pretty high ones (but not the highest). Babies with middle scores (<code>APGAR5</code> = 5) have a bit narrower range, tending towards the lighter side. Babies with really poor scores generally tend towards lighter weight. We can confirm this visual impression by computing categories based on the <code>APGAR5</code> score and showing their averages.\n",
    "\n",
    "Make a list containing the mean value of all birth weights for babies with an <code>APGAR5</code> score equal to the index: that is, the first value in the list (index = 0) is the mean value of all birth weights with an <code>APGAR5</code> value of 0. We will do this in a way that is very similar to what we did to answer the first question."
   ]
  },
  {
   "cell_type": "code",
   "execution_count": 92,
   "metadata": {},
   "outputs": [
    {
     "name": "stdout",
     "output_type": "stream",
     "text": [
      "[1711.9397590361446, 1087.0869565217392, 1772.4583333333333, 2377.528260869565, 2446.3665008291873, 2548.989371124889, 2634.806679209784, 2798.5902789662846, 3105.0507450278187, 3296.7393862407735, 3340.3515678645]\n"
     ]
    }
   ],
   "source": [
    "means = []  # means[i] is the mean birth weight for an APGAR5 score of i\n",
    "# First create a Boolean index that is True if the APGAR5 score is i:\n",
    "#   boolcol = births.APGAR5 == i\n",
    "# Now use that index to create a reduced DataFrame, and calculate its mean:\n",
    "#   k = births.DBWT[boolcol].mean()\n",
    "# Now do this for each possible APGAR5 score (0-10) and put the result in means.\n",
    "\n",
    "for i in range(0, 11):\n",
    "    boolcol = births[\"APGAR5\"] == i\n",
    "    means.append(births[\"DBWT\"][boolcol].mean())\n",
    "\n",
    "print(means)\n",
    "    "
   ]
  },
  {
   "cell_type": "markdown",
   "metadata": {},
   "source": [
    "Let's do a bar chart of these means."
   ]
  },
  {
   "cell_type": "code",
   "execution_count": 93,
   "metadata": {},
   "outputs": [
    {
     "data": {
      "text/plain": [
       "<BarContainer object of 11 artists>"
      ]
     },
     "execution_count": 93,
     "metadata": {},
     "output_type": "execute_result"
    },
    {
     "data": {
      "image/png": "[encoded data removed]",
      "text/plain": [
       "<Figure size 432x288 with 1 Axes>"
      ]
     },
     "metadata": {
      "needs_background": "light"
     },
     "output_type": "display_data"
    }
   ],
   "source": [
    "# Your code goes here to make a vertical bar chart of means. The first argument to pl.bar() must be\n",
    "# a list of the APGAR5 scores (0-10) and the second argument must be the list means.\n",
    "\n",
    "plt.bar(range(0, 11), means)"
   ]
  },
  {
   "cell_type": "markdown",
   "metadata": {},
   "source": [
    "This generally confirms our earlier observation: that the average birth weight of healthy babies is higher than that of sick babies. The sickest babies (<code>APGAR5</code> = 1) have the lowest average birth weight. The <code>APGAR5</code> score of 0 means that the baby is dead, and may have died for a host of reasons."
   ]
  }
 ],
 "metadata": {
  "kernelspec": {
   "display_name": "Python 3 (ipykernel)",
   "language": "python",
   "name": "python3"
  },
  "language_info": {
   "codemirror_mode": {
    "name": "ipython",
    "version": 3
   },
   "file_extension": ".py",
   "mimetype": "text/x-python",
   "name": "python",
   "nbconvert_exporter": "python",
   "pygments_lexer": "ipython3",
   "version": "3.8.8"
  }
 },
 "nbformat": 4,
 "nbformat_minor": 4
}
