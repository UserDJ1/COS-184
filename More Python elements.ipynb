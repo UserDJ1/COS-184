{
 "cells": [
  {
   "cell_type": "markdown",
   "metadata": {},
   "source": [
    "# DJ Pelletier\n",
    "### COS 184 fall 2020"
   ]
  },
  {
   "cell_type": "markdown",
   "metadata": {},
   "source": [
    "## Lab 3: More Python elements (15 points)"
   ]
  },
  {
   "cell_type": "markdown",
   "metadata": {},
   "source": [
    "This assignment is about getting you comfortable with more of the basic elements of Python: operators and expressions, loops and if/elif/else. You can do almost everything with just these elements.\n",
    "\n",
    "In the cell below, write a short program to add 0.1 to itself, a million times. This is a \"cumulative\" algorithm: start with a variable that is initially 0.0 and then, in the loop, add 0.1 to that variable. When the loop exits, print the value of that variable."
   ]
  },
  {
   "cell_type": "code",
   "execution_count": 1,
   "metadata": {},
   "outputs": [
    {
     "name": "stdout",
     "output_type": "stream",
     "text": [
      "100000.00000133288\n"
     ]
    }
   ],
   "source": [
    "# Enter your code in this cell.\n",
    "\n",
    "a = 0.0\n",
    "\n",
    "for i in range(1000000):\n",
    "    a += 0.1\n",
    "\n",
    "print(a)"
   ]
  },
  {
   "cell_type": "markdown",
   "metadata": {},
   "source": [
    "What do you observe about the final value of the variable? Is it what you expect? Why not?\n",
    "\n",
    "#### It is not expected. The approximate value of the variable is correct, but it has picked up an additional 0.00000133288."
   ]
  },
  {
   "cell_type": "markdown",
   "metadata": {},
   "source": [
    "Now we're going to experimentally verify an extraordinary hypothesis: that the value of the function\n",
    "\\begin{equation*}\n",
    "sum(n) = \\frac{n(n+1)}{2}\n",
    "\\end{equation*}\n",
    "is the sum of the first <i>n</i> integers, starting with 1.\n",
    "\n",
    "This is another cumulative algorithm. Write a short program that first initializes a variable <code>loopsum</code> to 0. Then it asks the user for a positive whole number, not too big, converts it to an <code>int</code> and sets the variable <code>n</code> to that value. Then code a loop that loops <code>n</code> times. Each time it loops it adds a number to <code>loopsum</code> that is one larger than the time before, starting with 1. You will find the loop <code>for i in range(1, n+1)</code> useful. When the loop finishes, the value of <code>loopsum</code> is the sum of the first <code>n</code> integers. \n",
    "\n",
    "Now compare that value with the value of the function <i>sum(n)</i>. Just write an expression that computes the product of <code>n</code> and <code>n + 1</code> divided by 2. Its value should be the same as that of <code>loopsum</code>."
   ]
  },
  {
   "cell_type": "code",
   "execution_count": 8,
   "metadata": {},
   "outputs": [
    {
     "name": "stdin",
     "output_type": "stream",
     "text": [
      "Enter a positive whole number:  6\n"
     ]
    },
    {
     "name": "stdout",
     "output_type": "stream",
     "text": [
      "21\n",
      "21\n",
      "21\n"
     ]
    }
   ],
   "source": [
    "# Enter your code below to initialize loopsum, get n from the user, and loop n times. The first time, add 1\n",
    "# to loopsum; the second time, add 2. Each loop adds a number that is one more.\n",
    "# Compare the result to the value of the formula for sum(n).\n",
    "\n",
    "loopsum = 0\n",
    "\n",
    "n = int(input(\"Enter a positive whole number: \"))\n",
    "\n",
    "for i in range(n):\n",
    "    loopsum += (i + 1)\n",
    "\n",
    "print(loopsum)\n",
    "print(sum(range(1, n+1)))\n",
    "print(int((n**2 + n)/2))"
   ]
  },
  {
   "cell_type": "code",
   "execution_count": 9,
   "metadata": {},
   "outputs": [],
   "source": [
    "# Code check block - don't change this cell.\n",
    "assert loopsum == n*(n+1)/2"
   ]
  },
  {
   "cell_type": "markdown",
   "metadata": {},
   "source": [
    "Finally, we are going to exercise your <code>if</code> statement chops. \n",
    "\n",
    "In order to be considered for a certain clinical trial, you have to be between the ages of 16 and 21, inclusive; be healthy, not have been convicted of a felony, and have an allergy to Pine pollen (that's the yellow stuff that we get a lot of in the spring). Write a program to prompt the user for this information and print a decision as to whether the person is eligible. Ask for a numeric age and yes/no responses."
   ]
  },
  {
   "cell_type": "code",
   "execution_count": 16,
   "metadata": {},
   "outputs": [
    {
     "name": "stdin",
     "output_type": "stream",
     "text": [
      "How old are you? (Enter a number only):  21\n",
      "Are you healthy? (Yes or no):  Y\n",
      "Have you ever been convicted of a felony? (Yes or no):  EEEEY\n",
      "Are you allergic to pine pollen? (Yes or no):  Y\n"
     ]
    },
    {
     "name": "stdout",
     "output_type": "stream",
     "text": [
      "\n",
      "You are eligible for the clinical trial.\n"
     ]
    }
   ],
   "source": [
    "# Enter your code to decide eligibility for the given criteria.\n",
    "\n",
    "a = int(input(\"How old are you? (Enter a number only): \"))\n",
    "b = input(\"Are you healthy? (Yes or no): \")\n",
    "c = input(\"Have you ever been convicted of a felony? (Yes or no): \")\n",
    "d = input(\"Are you allergic to pine pollen? (Yes or no): \")\n",
    "\n",
    "\n",
    "if (a >= 16 and a <= 21):\n",
    "    a = 1\n",
    "else:\n",
    "    a = 0\n",
    "\n",
    "if (\"Y\" in b or \"y\" in b):\n",
    "    b = 1\n",
    "else:\n",
    "    b = 0\n",
    "\n",
    "if (\"Y\" in c or \"y\" in c):\n",
    "    c = 1\n",
    "else:\n",
    "    c = 0\n",
    "\n",
    "if (\"Y\" in d or \"y\" in d):\n",
    "    d = 1\n",
    "else:\n",
    "    d = 0\n",
    "    \n",
    "\n",
    "print()\n",
    "\n",
    "if (a == 1 and b == 1 and c == 1 and d == 1):\n",
    "    print(\"You are eligible for the clinical trial.\")\n",
    "else:\n",
    "    print(\"You are not eligible for the clinical trial.\")"
   ]
  },
  {
   "cell_type": "markdown",
   "metadata": {},
   "source": [
    "### Extra credit (5 points)\n",
    "A positive whole number is prime if it is evenly divisible only by 1 and itself. Write a program that asks the user to enter a (not too big) positive whole number and then determines if it is prime. Hint: test possible factors starting with 2. If any factor evenly divides the number (division produces a remainder of 0) it can’t be prime. Use the remainder operator % to do the test. You need test only factors less than or equal to the smallest integer larger than the square root of the number, conveniently computed by the <code>math</code> library functions <code>ceil(sqrt(x))</code>. \n",
    "\n",
    "Is 999,998,727,899,999 prime? This is a \"palindromic\" number -- it reads the same backwards and forwards."
   ]
  },
  {
   "cell_type": "code",
   "execution_count": 55,
   "metadata": {},
   "outputs": [
    {
     "name": "stdin",
     "output_type": "stream",
     "text": [
      "Enter an integer greater than 2:  999998727899999\n"
     ]
    },
    {
     "name": "stdout",
     "output_type": "stream",
     "text": [
      "The given integer is prime!\n"
     ]
    }
   ],
   "source": [
    "# Enter your code here.\n",
    "\n",
    "from math import *\n",
    "\n",
    "n = int(input(\"Enter an integer greater than 2: \"))\n",
    "a = 0\n",
    "\n",
    "m = ceil(sqrt(n))\n",
    "\n",
    "for i in range(2, m+1):\n",
    "    #print((n/i)%1 == 0) #Test print\n",
    "    \n",
    "    if ((n/i)%1 == 0):\n",
    "        a = 1\n",
    "\n",
    "if (a == 1):\n",
    "    print(\"The given integer is not prime.\")\n",
    "else:\n",
    "    print(\"The given integer is prime!\")"
   ]
  },
  {
   "cell_type": "markdown",
   "metadata": {},
   "source": [
    "999,998,727,899,999 is, in fact, a prime number."
   ]
  },
  {
   "cell_type": "code",
   "execution_count": null,
   "metadata": {},
   "outputs": [],
   "source": []
  }
 ],
 "metadata": {
  "kernelspec": {
   "display_name": "Python 3",
   "language": "python",
   "name": "python3"
  },
  "language_info": {
   "codemirror_mode": {
    "name": "ipython",
    "version": 3
   },
   "file_extension": ".py",
   "mimetype": "text/x-python",
   "name": "python",
   "nbconvert_exporter": "python",
   "pygments_lexer": "ipython3",
   "version": "3.8.8"
  }
 },
 "nbformat": 4,
 "nbformat_minor": 4
}
